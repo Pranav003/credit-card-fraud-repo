{
  "metadata": {
    "kernelspec": {
      "language": "python",
      "display_name": "Python 3",
      "name": "python3"
    },
    "language_info": {
      "pygments_lexer": "ipython3",
      "nbconvert_exporter": "python",
      "version": "3.6.4",
      "file_extension": ".py",
      "codemirror_mode": {
        "name": "ipython",
        "version": 3
      },
      "name": "python",
      "mimetype": "text/x-python"
    },
    "colab": {
      "provenance": []
    }
  },
  "nbformat_minor": 0,
  "nbformat": 4,
  "cells": [
    {
      "cell_type": "markdown",
      "source": [
        "# **Credit Card Fraud Detection using Scikit-Learn and Snap ML**\n"
      ],
      "metadata": {
        "id": "ThGS3Tg2kBvi"
      }
    },
    {
      "cell_type": "markdown",
      "source": [
        "**Snap ML** is a high-performance IBM library for ML modeling. It provides highly-efficient CPU/GPU implementations of linear models and tree-based models. Snap ML not only accelerates ML algorithms through system awareness, but also offers novel ML algorithms with best-in-class accuracy. For more information, please visit [here](https://ibm.biz/BdPfdW?utm_medium=Exinfluencer&utm_source=Exinfluencer&utm_content=000026UJ&utm_term=10006555&utm_id=NA-SkillsNetwork-Channel-SkillsNetworkGuidedProjectsIBMGPXX0RHPEN82-2022-01-01).\n"
      ],
      "metadata": {
        "id": "K1lk8Je2kBvj"
      }
    },
    {
      "cell_type": "markdown",
      "source": [
        "In this project you will consolidate your machine learning (ML) modeling skills by using two popular classification models to recognize fraudulent credit card transactions. These models are: **Decision Tree and Support Vector Machine**. You will use a real dataset to train each of these models. The dataset includes information about transactions made by credit cards in September 2013 by European cardholders. You will use the trained model to assess if a credit card transaction is legitimate or not.\n",
        "\n",
        "<img src=\"https://cf-courses-data.s3.us.cloud-object-storage.appdomain.cloud/IBM-GPXX0RHPEN/images/creditcard.jpg\" width=\"70%\">\n"
      ],
      "metadata": {
        "id": "T8bjoNNakBvk"
      }
    },
    {
      "cell_type": "markdown",
      "source": [
        "# Table of Contents\n"
      ],
      "metadata": {
        "id": "p3kAJC-bkBvk"
      }
    },
    {
      "cell_type": "markdown",
      "source": [
        "<ol>\n",
        "    <li><a href=\"#introduction\">Introduction</a></li>\n",
        "    <li><a href=\"#Setup\">Setup</a>\n",
        "        <ol>\n",
        "            <li><a href=\"https://#Installing-Required-Libraries\">Installing Required Libraries</a></li>\n",
        "            <li><a href=\"https://#Importing-Required-Libraries\">Importing Required Libraries</a></li>\n",
        "        </ol>\n",
        "    </li>\n",
        "    <li><a href=\"#Introduction\">Introduction</a></li>\n",
        "    <li><a href=\"#dataset_analysis\">Dataset Analysis</a></li>\n",
        "    <li><a href=\"#dataset_preprocessing\">Dataset Preprocessing</a></li>\n",
        "    <li><a href=\"#dataset_split\">Dataset Train/Test Split</a></li>\n",
        "    <li><a href=\"#Decision Trees\">Decision Trees</a>\n",
        "        <ol>\n",
        "            <li><a href=\"#dt_sklearn\">Build a Decision Tree Classifier with Scikit-Learn</a></li>\n",
        "            <li><a href=\"#dt_snap\">Build a Decision Tree Classifier with Snap ML</a></li>\n",
        "            <li><a href=\"#dt_sklearn_snap\">Evaluate the Scikit-Learn and Snap ML Decision Tree Classifiers</a></li>                     \n",
        "        </ol>           \n",
        "    </li>\n",
        "    <li><a href=\"#Support Vector Machines\">Support Vector Machines</a>\n",
        "        <ol>\n",
        "             <li><a href=\"#svm_sklearn\">Build a Support Vector Machine model with Scikit-Learn</a></li>\n",
        "            <li><a href=\"#svm_snap\">Build a Support Vector Machine model with Snap ML</a></li>\n",
        "            <li><a href=\"#svm_sklearn_snap\">Evaluate the Scikit-Learn and Snap ML Support Vector Machine Models</a></li>            \n",
        "        </ol>                \n",
        "    </li>\n",
        "</ol>\n"
      ],
      "metadata": {
        "id": "FTD5uHgtkBvm"
      }
    },
    {
      "cell_type": "markdown",
      "source": [
        "# Objectives\n"
      ],
      "metadata": {
        "id": "KMNicsWbkBvn"
      }
    },
    {
      "cell_type": "markdown",
      "source": [
        "After completing this project you will be able to:\n"
      ],
      "metadata": {
        "id": "i2kA9iGJkBvp"
      }
    },
    {
      "cell_type": "markdown",
      "source": [
        "* Perform basic data preprocessing in Python\n",
        "* Model a classification task using the Scikit-Learn and Snap ML Python APIs\n",
        "* Train Suppport Vector Machine and Decision Tree models using Scikit-Learn and Snap ML\n",
        "* Run inference and assess the quality of the trained models\n"
      ],
      "metadata": {
        "id": "bPff2RNRkBvq"
      }
    },
    {
      "cell_type": "markdown",
      "source": [
        "----\n"
      ],
      "metadata": {
        "id": "0w_1LMtlkBvr"
      }
    },
    {
      "cell_type": "markdown",
      "source": [
        "# Setup\n"
      ],
      "metadata": {
        "id": "8U05bzf6kBvs"
      }
    },
    {
      "cell_type": "markdown",
      "source": [
        "For this project project, we will be using the following libraries:\n",
        "\n",
        "*   [`pandas`](https://pandas.pydata.org/?utm_medium=Exinfluencer&utm_source=Exinfluencer&utm_content=000026UJ&utm_term=10006555&utm_id=NA-SkillsNetwork-Channel-SkillsNetworkCoursesIBMML0187ENSkillsNetwork31430127-2021-01-01) for managing the data.\n",
        "*   [`numpy`](https://numpy.org/?utm_medium=Exinfluencer&utm_source=Exinfluencer&utm_content=000026UJ&utm_term=10006555&utm_id=NA-SkillsNetwork-Channel-SkillsNetworkCoursesIBMML0187ENSkillsNetwork31430127-2021-01-01) for mathematical operations.\n",
        "*   [`sklearn`](https://scikit-learn.org/stable/?utm_medium=Exinfluencer&utm_source=Exinfluencer&utm_content=000026UJ&utm_term=10006555&utm_id=NA-SkillsNetwork-Channel-SkillsNetworkCoursesIBMML0187ENSkillsNetwork31430127-2021-01-01) for machine learning and machine-learning-pipeline related functions.\n",
        "*   [`seaborn`](https://seaborn.pydata.org/?utm_medium=Exinfluencer&utm_source=Exinfluencer&utm_content=000026UJ&utm_term=10006555&utm_id=NA-SkillsNetwork-Channel-SkillsNetworkCoursesIBMML0187ENSkillsNetwork31430127-2021-01-01) for visualizing the data.\n",
        "*   [`matplotlib`](https://matplotlib.org/?utm_medium=Exinfluencer&utm_source=Exinfluencer&utm_content=000026UJ&utm_term=10006555&utm_id=NA-SkillsNetwork-Channel-SkillsNetworkCoursesIBMML0187ENSkillsNetwork31430127-2021-01-01) for additional plotting tools.\n"
      ],
      "metadata": {
        "id": "z4WBN832kBvs"
      }
    },
    {
      "cell_type": "markdown",
      "source": [
        "# Installing Required Libraries\n",
        "\n",
        "The following required libraries are pre-installed. However, if you run this notebook commands in a different Jupyter environment (e.g. Watson Studio or Anaconda), you will need to install these libraries by removing the `#` sign before `!pip` in the code cell below.\n"
      ],
      "metadata": {
        "id": "aEmaf2YPkBvs"
      }
    },
    {
      "cell_type": "code",
      "source": [
        "# All Libraries required for this lab are listed below. The libraries pre-installed on Skills Network Labs are commented.\n",
        "#!pip install -qy pandas==1.3.4 numpy==1.21.4 seaborn==0.9.0 matplotlib==3.5.0 scikit-learn==0.20.1\n",
        "# Note: If your environment doesn't support \"!mamba install\", use \"!pip install\""
      ],
      "metadata": {
        "execution": {
          "iopub.status.busy": "2023-07-09T09:33:03.526926Z",
          "iopub.execute_input": "2023-07-09T09:33:03.527344Z",
          "iopub.status.idle": "2023-07-09T09:33:05.552707Z",
          "shell.execute_reply.started": "2023-07-09T09:33:03.527313Z",
          "shell.execute_reply": "2023-07-09T09:33:05.551181Z"
        },
        "trusted": true,
        "id": "yX_UJH33kBvt"
      },
      "execution_count": 1,
      "outputs": []
    },
    {
      "cell_type": "markdown",
      "source": [
        "The following required libraries are __not__ pre-installed. __You will need to run the following cell__ to install them:\n"
      ],
      "metadata": {
        "id": "YiDPHcBXkBvu"
      }
    },
    {
      "cell_type": "code",
      "source": [
        "!pip install snapml"
      ],
      "metadata": {
        "execution": {
          "iopub.status.busy": "2023-07-09T09:33:10.569491Z",
          "iopub.execute_input": "2023-07-09T09:33:10.569918Z",
          "iopub.status.idle": "2023-07-09T09:33:26.081024Z",
          "shell.execute_reply.started": "2023-07-09T09:33:10.569885Z",
          "shell.execute_reply": "2023-07-09T09:33:26.079583Z"
        },
        "trusted": true,
        "colab": {
          "base_uri": "https://localhost:8080/"
        },
        "id": "gOWLr4-zkBvu",
        "outputId": "906db52e-afe3-4e4f-a334-1123a09ed499"
      },
      "execution_count": 2,
      "outputs": [
        {
          "output_type": "stream",
          "name": "stdout",
          "text": [
            "Collecting snapml\n",
            "  Downloading snapml-1.14.1-cp310-cp310-manylinux_2_28_x86_64.whl (7.3 MB)\n",
            "\u001b[2K     \u001b[90m━━━━━━━━━━━━━━━━━━━━━━━━━━━━━━━━━━━━━━━━\u001b[0m \u001b[32m7.3/7.3 MB\u001b[0m \u001b[31m20.9 MB/s\u001b[0m eta \u001b[36m0:00:00\u001b[0m\n",
            "\u001b[?25hRequirement already satisfied: scikit-learn in /usr/local/lib/python3.10/dist-packages (from snapml) (1.2.2)\n",
            "Requirement already satisfied: scipy in /usr/local/lib/python3.10/dist-packages (from snapml) (1.10.1)\n",
            "Requirement already satisfied: numpy>=1.21.3 in /usr/local/lib/python3.10/dist-packages (from snapml) (1.22.4)\n",
            "Requirement already satisfied: joblib>=1.1.1 in /usr/local/lib/python3.10/dist-packages (from scikit-learn->snapml) (1.3.1)\n",
            "Requirement already satisfied: threadpoolctl>=2.0.0 in /usr/local/lib/python3.10/dist-packages (from scikit-learn->snapml) (3.2.0)\n",
            "Installing collected packages: snapml\n",
            "Successfully installed snapml-1.14.1\n"
          ]
        }
      ]
    },
    {
      "cell_type": "markdown",
      "source": [
        "# Importing Required Libraries"
      ],
      "metadata": {
        "id": "wyh5l3x6kBvu"
      }
    },
    {
      "cell_type": "code",
      "source": [
        "# Import the libraries we need to use in this lab\n",
        "import warnings\n",
        "warnings.filterwarnings('ignore')\n",
        "\n",
        "# from __future__ import print_function\n",
        "import numpy as np\n",
        "import pandas as pd\n",
        "import matplotlib.pyplot as plt\n",
        "%matplotlib inline\n",
        "\n",
        "from sklearn.model_selection import train_test_split\n",
        "from sklearn.preprocessing import normalize, StandardScaler\n",
        "from sklearn.utils.class_weight import compute_sample_weight\n",
        "from sklearn.metrics import roc_auc_score\n",
        "import time\n",
        "import gc, sys"
      ],
      "metadata": {
        "execution": {
          "iopub.status.busy": "2023-07-09T09:33:30.935905Z",
          "iopub.execute_input": "2023-07-09T09:33:30.936423Z",
          "iopub.status.idle": "2023-07-09T09:33:31.714497Z",
          "shell.execute_reply.started": "2023-07-09T09:33:30.936372Z",
          "shell.execute_reply": "2023-07-09T09:33:31.713312Z"
        },
        "trusted": true,
        "id": "XGqkeIlokBvv"
      },
      "execution_count": 3,
      "outputs": []
    },
    {
      "cell_type": "markdown",
      "source": [
        "# Introduction\n"
      ],
      "metadata": {
        "id": "gUNn94vJkBvv"
      }
    },
    {
      "cell_type": "markdown",
      "source": [
        "Imagine that you work for a financial institution and part of your job is to build a model that predicts if a credit card transaction is fraudulent or not. You can model the problem as a binary classification problem. A transaction belongs to the positive class (1) if it is a fraud, otherwise it belongs to the negative class (0).\n"
      ],
      "metadata": {
        "id": "nefylpDKkBvv"
      }
    },
    {
      "cell_type": "markdown",
      "source": [
        "As a Data Scientist, you have access to transactions that occured over a certain period of time. The majority of the transactions are normally legitimate and only a small fraction are non-legitimate. Thus, typically you have access to a dataset that is highly unbalanced. This is also the case of the current dataset: only 492 transactions out of 284,807 are fraudulent (the positive class - the frauds - accounts for 0.172% of all transactions).\n",
        "\n",
        "To train the model you can use part of the input dataset and the remaining data can be used to assess the quality of the trained model. First, let's download the dataset.\n",
        "\n",
        "The dataset is the [Credit Card Fraud Detection](https://www.kaggle.com/datasets/mlg-ulb/creditcardfraud?utm_medium=Exinfluencer&utm_source=Exinfluencer&utm_content=000026UJ&utm_term=10006555&utm_id=NA-SkillsNetwork-Channel-SkillsNetworkGuidedProjectsIBMGPXX0RHPEN82-2022-01-01) dataset from Kaggle.\n"
      ],
      "metadata": {
        "id": "dtKce1BakBvv"
      }
    },
    {
      "cell_type": "markdown",
      "source": [
        "# Dataset Analysis\n"
      ],
      "metadata": {
        "id": "CyDR4PbzkBvv"
      }
    },
    {
      "cell_type": "markdown",
      "source": [
        "In this section you will read the dataset in a Pandas dataframe and visualize its content. You will also look at some data statistics.\n",
        "\n",
        "Note: A Pandas dataframe is a two-dimensional, size-mutable, potentially heterogeneous tabular data structure. For more information, click [here](https://pandas.pydata.org/docs/reference/api/pandas.DataFrame.html?utm_medium=Exinfluencer&utm_source=Exinfluencer&utm_content=000026UJ&utm_term=10006555&utm_id=NA-SkillsNetwork-Channel-SkillsNetworkGuidedProjectsIBMGPXX0RHPEN82-2022-01-01).\n"
      ],
      "metadata": {
        "id": "ELTqWVJmkBvv"
      }
    },
    {
      "cell_type": "code",
      "source": [
        "from google.colab import files\n",
        "uploaded = files.upload()"
      ],
      "metadata": {
        "colab": {
          "base_uri": "https://localhost:8080/",
          "height": 73
        },
        "id": "kVb1vdHEk5z5",
        "outputId": "72ba4512-57be-4b7e-c675-8b129552cc08"
      },
      "execution_count": 4,
      "outputs": [
        {
          "output_type": "display_data",
          "data": {
            "text/plain": [
              "<IPython.core.display.HTML object>"
            ],
            "text/html": [
              "\n",
              "     <input type=\"file\" id=\"files-9d85f3ec-3f34-4f56-81ce-6a38c1d70462\" name=\"files[]\" multiple disabled\n",
              "        style=\"border:none\" />\n",
              "     <output id=\"result-9d85f3ec-3f34-4f56-81ce-6a38c1d70462\">\n",
              "      Upload widget is only available when the cell has been executed in the\n",
              "      current browser session. Please rerun this cell to enable.\n",
              "      </output>\n",
              "      <script>// Copyright 2017 Google LLC\n",
              "//\n",
              "// Licensed under the Apache License, Version 2.0 (the \"License\");\n",
              "// you may not use this file except in compliance with the License.\n",
              "// You may obtain a copy of the License at\n",
              "//\n",
              "//      http://www.apache.org/licenses/LICENSE-2.0\n",
              "//\n",
              "// Unless required by applicable law or agreed to in writing, software\n",
              "// distributed under the License is distributed on an \"AS IS\" BASIS,\n",
              "// WITHOUT WARRANTIES OR CONDITIONS OF ANY KIND, either express or implied.\n",
              "// See the License for the specific language governing permissions and\n",
              "// limitations under the License.\n",
              "\n",
              "/**\n",
              " * @fileoverview Helpers for google.colab Python module.\n",
              " */\n",
              "(function(scope) {\n",
              "function span(text, styleAttributes = {}) {\n",
              "  const element = document.createElement('span');\n",
              "  element.textContent = text;\n",
              "  for (const key of Object.keys(styleAttributes)) {\n",
              "    element.style[key] = styleAttributes[key];\n",
              "  }\n",
              "  return element;\n",
              "}\n",
              "\n",
              "// Max number of bytes which will be uploaded at a time.\n",
              "const MAX_PAYLOAD_SIZE = 100 * 1024;\n",
              "\n",
              "function _uploadFiles(inputId, outputId) {\n",
              "  const steps = uploadFilesStep(inputId, outputId);\n",
              "  const outputElement = document.getElementById(outputId);\n",
              "  // Cache steps on the outputElement to make it available for the next call\n",
              "  // to uploadFilesContinue from Python.\n",
              "  outputElement.steps = steps;\n",
              "\n",
              "  return _uploadFilesContinue(outputId);\n",
              "}\n",
              "\n",
              "// This is roughly an async generator (not supported in the browser yet),\n",
              "// where there are multiple asynchronous steps and the Python side is going\n",
              "// to poll for completion of each step.\n",
              "// This uses a Promise to block the python side on completion of each step,\n",
              "// then passes the result of the previous step as the input to the next step.\n",
              "function _uploadFilesContinue(outputId) {\n",
              "  const outputElement = document.getElementById(outputId);\n",
              "  const steps = outputElement.steps;\n",
              "\n",
              "  const next = steps.next(outputElement.lastPromiseValue);\n",
              "  return Promise.resolve(next.value.promise).then((value) => {\n",
              "    // Cache the last promise value to make it available to the next\n",
              "    // step of the generator.\n",
              "    outputElement.lastPromiseValue = value;\n",
              "    return next.value.response;\n",
              "  });\n",
              "}\n",
              "\n",
              "/**\n",
              " * Generator function which is called between each async step of the upload\n",
              " * process.\n",
              " * @param {string} inputId Element ID of the input file picker element.\n",
              " * @param {string} outputId Element ID of the output display.\n",
              " * @return {!Iterable<!Object>} Iterable of next steps.\n",
              " */\n",
              "function* uploadFilesStep(inputId, outputId) {\n",
              "  const inputElement = document.getElementById(inputId);\n",
              "  inputElement.disabled = false;\n",
              "\n",
              "  const outputElement = document.getElementById(outputId);\n",
              "  outputElement.innerHTML = '';\n",
              "\n",
              "  const pickedPromise = new Promise((resolve) => {\n",
              "    inputElement.addEventListener('change', (e) => {\n",
              "      resolve(e.target.files);\n",
              "    });\n",
              "  });\n",
              "\n",
              "  const cancel = document.createElement('button');\n",
              "  inputElement.parentElement.appendChild(cancel);\n",
              "  cancel.textContent = 'Cancel upload';\n",
              "  const cancelPromise = new Promise((resolve) => {\n",
              "    cancel.onclick = () => {\n",
              "      resolve(null);\n",
              "    };\n",
              "  });\n",
              "\n",
              "  // Wait for the user to pick the files.\n",
              "  const files = yield {\n",
              "    promise: Promise.race([pickedPromise, cancelPromise]),\n",
              "    response: {\n",
              "      action: 'starting',\n",
              "    }\n",
              "  };\n",
              "\n",
              "  cancel.remove();\n",
              "\n",
              "  // Disable the input element since further picks are not allowed.\n",
              "  inputElement.disabled = true;\n",
              "\n",
              "  if (!files) {\n",
              "    return {\n",
              "      response: {\n",
              "        action: 'complete',\n",
              "      }\n",
              "    };\n",
              "  }\n",
              "\n",
              "  for (const file of files) {\n",
              "    const li = document.createElement('li');\n",
              "    li.append(span(file.name, {fontWeight: 'bold'}));\n",
              "    li.append(span(\n",
              "        `(${file.type || 'n/a'}) - ${file.size} bytes, ` +\n",
              "        `last modified: ${\n",
              "            file.lastModifiedDate ? file.lastModifiedDate.toLocaleDateString() :\n",
              "                                    'n/a'} - `));\n",
              "    const percent = span('0% done');\n",
              "    li.appendChild(percent);\n",
              "\n",
              "    outputElement.appendChild(li);\n",
              "\n",
              "    const fileDataPromise = new Promise((resolve) => {\n",
              "      const reader = new FileReader();\n",
              "      reader.onload = (e) => {\n",
              "        resolve(e.target.result);\n",
              "      };\n",
              "      reader.readAsArrayBuffer(file);\n",
              "    });\n",
              "    // Wait for the data to be ready.\n",
              "    let fileData = yield {\n",
              "      promise: fileDataPromise,\n",
              "      response: {\n",
              "        action: 'continue',\n",
              "      }\n",
              "    };\n",
              "\n",
              "    // Use a chunked sending to avoid message size limits. See b/62115660.\n",
              "    let position = 0;\n",
              "    do {\n",
              "      const length = Math.min(fileData.byteLength - position, MAX_PAYLOAD_SIZE);\n",
              "      const chunk = new Uint8Array(fileData, position, length);\n",
              "      position += length;\n",
              "\n",
              "      const base64 = btoa(String.fromCharCode.apply(null, chunk));\n",
              "      yield {\n",
              "        response: {\n",
              "          action: 'append',\n",
              "          file: file.name,\n",
              "          data: base64,\n",
              "        },\n",
              "      };\n",
              "\n",
              "      let percentDone = fileData.byteLength === 0 ?\n",
              "          100 :\n",
              "          Math.round((position / fileData.byteLength) * 100);\n",
              "      percent.textContent = `${percentDone}% done`;\n",
              "\n",
              "    } while (position < fileData.byteLength);\n",
              "  }\n",
              "\n",
              "  // All done.\n",
              "  yield {\n",
              "    response: {\n",
              "      action: 'complete',\n",
              "    }\n",
              "  };\n",
              "}\n",
              "\n",
              "scope.google = scope.google || {};\n",
              "scope.google.colab = scope.google.colab || {};\n",
              "scope.google.colab._files = {\n",
              "  _uploadFiles,\n",
              "  _uploadFilesContinue,\n",
              "};\n",
              "})(self);\n",
              "</script> "
            ]
          },
          "metadata": {}
        },
        {
          "output_type": "stream",
          "name": "stdout",
          "text": [
            "Saving creditcard.csv to creditcard.csv\n"
          ]
        }
      ]
    },
    {
      "cell_type": "code",
      "source": [
        "# read the input data\n",
        "import io\n",
        "raw_data = pd.read_csv(io.BytesIO(uploaded['creditcard.csv']))\n",
        "print(\"There are \" + str(len(raw_data)) + \" observations in the credit card fraud dataset.\")\n",
        "print(\"There are \" + str(len(raw_data.columns)) + \" variables in the dataset.\")\n",
        "\n",
        "# display the first rows in the dataset\n",
        "raw_data.head()"
      ],
      "metadata": {
        "execution": {
          "iopub.status.busy": "2023-07-09T09:37:45.918228Z",
          "iopub.execute_input": "2023-07-09T09:37:45.919019Z",
          "iopub.status.idle": "2023-07-09T09:37:50.645663Z",
          "shell.execute_reply.started": "2023-07-09T09:37:45.918981Z",
          "shell.execute_reply": "2023-07-09T09:37:50.644558Z"
        },
        "trusted": true,
        "colab": {
          "base_uri": "https://localhost:8080/",
          "height": 334
        },
        "id": "PP8pkSSnkBvv",
        "outputId": "cd8f6012-e501-4212-a3b3-3c50092955fd"
      },
      "execution_count": 6,
      "outputs": [
        {
          "output_type": "stream",
          "name": "stdout",
          "text": [
            "There are 284807 observations in the credit card fraud dataset.\n",
            "There are 31 variables in the dataset.\n"
          ]
        },
        {
          "output_type": "execute_result",
          "data": {
            "text/plain": [
              "   Time        V1        V2        V3        V4        V5        V6        V7  \\\n",
              "0   0.0 -1.359807 -0.072781  2.536347  1.378155 -0.338321  0.462388  0.239599   \n",
              "1   0.0  1.191857  0.266151  0.166480  0.448154  0.060018 -0.082361 -0.078803   \n",
              "2   1.0 -1.358354 -1.340163  1.773209  0.379780 -0.503198  1.800499  0.791461   \n",
              "3   1.0 -0.966272 -0.185226  1.792993 -0.863291 -0.010309  1.247203  0.237609   \n",
              "4   2.0 -1.158233  0.877737  1.548718  0.403034 -0.407193  0.095921  0.592941   \n",
              "\n",
              "         V8        V9  ...       V21       V22       V23       V24       V25  \\\n",
              "0  0.098698  0.363787  ... -0.018307  0.277838 -0.110474  0.066928  0.128539   \n",
              "1  0.085102 -0.255425  ... -0.225775 -0.638672  0.101288 -0.339846  0.167170   \n",
              "2  0.247676 -1.514654  ...  0.247998  0.771679  0.909412 -0.689281 -0.327642   \n",
              "3  0.377436 -1.387024  ... -0.108300  0.005274 -0.190321 -1.175575  0.647376   \n",
              "4 -0.270533  0.817739  ... -0.009431  0.798278 -0.137458  0.141267 -0.206010   \n",
              "\n",
              "        V26       V27       V28  Amount  Class  \n",
              "0 -0.189115  0.133558 -0.021053  149.62      0  \n",
              "1  0.125895 -0.008983  0.014724    2.69      0  \n",
              "2 -0.139097 -0.055353 -0.059752  378.66      0  \n",
              "3 -0.221929  0.062723  0.061458  123.50      0  \n",
              "4  0.502292  0.219422  0.215153   69.99      0  \n",
              "\n",
              "[5 rows x 31 columns]"
            ],
            "text/html": [
              "\n",
              "\n",
              "  <div id=\"df-16daaca7-0ffe-4c5e-aee0-304eafd2feac\">\n",
              "    <div class=\"colab-df-container\">\n",
              "      <div>\n",
              "<style scoped>\n",
              "    .dataframe tbody tr th:only-of-type {\n",
              "        vertical-align: middle;\n",
              "    }\n",
              "\n",
              "    .dataframe tbody tr th {\n",
              "        vertical-align: top;\n",
              "    }\n",
              "\n",
              "    .dataframe thead th {\n",
              "        text-align: right;\n",
              "    }\n",
              "</style>\n",
              "<table border=\"1\" class=\"dataframe\">\n",
              "  <thead>\n",
              "    <tr style=\"text-align: right;\">\n",
              "      <th></th>\n",
              "      <th>Time</th>\n",
              "      <th>V1</th>\n",
              "      <th>V2</th>\n",
              "      <th>V3</th>\n",
              "      <th>V4</th>\n",
              "      <th>V5</th>\n",
              "      <th>V6</th>\n",
              "      <th>V7</th>\n",
              "      <th>V8</th>\n",
              "      <th>V9</th>\n",
              "      <th>...</th>\n",
              "      <th>V21</th>\n",
              "      <th>V22</th>\n",
              "      <th>V23</th>\n",
              "      <th>V24</th>\n",
              "      <th>V25</th>\n",
              "      <th>V26</th>\n",
              "      <th>V27</th>\n",
              "      <th>V28</th>\n",
              "      <th>Amount</th>\n",
              "      <th>Class</th>\n",
              "    </tr>\n",
              "  </thead>\n",
              "  <tbody>\n",
              "    <tr>\n",
              "      <th>0</th>\n",
              "      <td>0.0</td>\n",
              "      <td>-1.359807</td>\n",
              "      <td>-0.072781</td>\n",
              "      <td>2.536347</td>\n",
              "      <td>1.378155</td>\n",
              "      <td>-0.338321</td>\n",
              "      <td>0.462388</td>\n",
              "      <td>0.239599</td>\n",
              "      <td>0.098698</td>\n",
              "      <td>0.363787</td>\n",
              "      <td>...</td>\n",
              "      <td>-0.018307</td>\n",
              "      <td>0.277838</td>\n",
              "      <td>-0.110474</td>\n",
              "      <td>0.066928</td>\n",
              "      <td>0.128539</td>\n",
              "      <td>-0.189115</td>\n",
              "      <td>0.133558</td>\n",
              "      <td>-0.021053</td>\n",
              "      <td>149.62</td>\n",
              "      <td>0</td>\n",
              "    </tr>\n",
              "    <tr>\n",
              "      <th>1</th>\n",
              "      <td>0.0</td>\n",
              "      <td>1.191857</td>\n",
              "      <td>0.266151</td>\n",
              "      <td>0.166480</td>\n",
              "      <td>0.448154</td>\n",
              "      <td>0.060018</td>\n",
              "      <td>-0.082361</td>\n",
              "      <td>-0.078803</td>\n",
              "      <td>0.085102</td>\n",
              "      <td>-0.255425</td>\n",
              "      <td>...</td>\n",
              "      <td>-0.225775</td>\n",
              "      <td>-0.638672</td>\n",
              "      <td>0.101288</td>\n",
              "      <td>-0.339846</td>\n",
              "      <td>0.167170</td>\n",
              "      <td>0.125895</td>\n",
              "      <td>-0.008983</td>\n",
              "      <td>0.014724</td>\n",
              "      <td>2.69</td>\n",
              "      <td>0</td>\n",
              "    </tr>\n",
              "    <tr>\n",
              "      <th>2</th>\n",
              "      <td>1.0</td>\n",
              "      <td>-1.358354</td>\n",
              "      <td>-1.340163</td>\n",
              "      <td>1.773209</td>\n",
              "      <td>0.379780</td>\n",
              "      <td>-0.503198</td>\n",
              "      <td>1.800499</td>\n",
              "      <td>0.791461</td>\n",
              "      <td>0.247676</td>\n",
              "      <td>-1.514654</td>\n",
              "      <td>...</td>\n",
              "      <td>0.247998</td>\n",
              "      <td>0.771679</td>\n",
              "      <td>0.909412</td>\n",
              "      <td>-0.689281</td>\n",
              "      <td>-0.327642</td>\n",
              "      <td>-0.139097</td>\n",
              "      <td>-0.055353</td>\n",
              "      <td>-0.059752</td>\n",
              "      <td>378.66</td>\n",
              "      <td>0</td>\n",
              "    </tr>\n",
              "    <tr>\n",
              "      <th>3</th>\n",
              "      <td>1.0</td>\n",
              "      <td>-0.966272</td>\n",
              "      <td>-0.185226</td>\n",
              "      <td>1.792993</td>\n",
              "      <td>-0.863291</td>\n",
              "      <td>-0.010309</td>\n",
              "      <td>1.247203</td>\n",
              "      <td>0.237609</td>\n",
              "      <td>0.377436</td>\n",
              "      <td>-1.387024</td>\n",
              "      <td>...</td>\n",
              "      <td>-0.108300</td>\n",
              "      <td>0.005274</td>\n",
              "      <td>-0.190321</td>\n",
              "      <td>-1.175575</td>\n",
              "      <td>0.647376</td>\n",
              "      <td>-0.221929</td>\n",
              "      <td>0.062723</td>\n",
              "      <td>0.061458</td>\n",
              "      <td>123.50</td>\n",
              "      <td>0</td>\n",
              "    </tr>\n",
              "    <tr>\n",
              "      <th>4</th>\n",
              "      <td>2.0</td>\n",
              "      <td>-1.158233</td>\n",
              "      <td>0.877737</td>\n",
              "      <td>1.548718</td>\n",
              "      <td>0.403034</td>\n",
              "      <td>-0.407193</td>\n",
              "      <td>0.095921</td>\n",
              "      <td>0.592941</td>\n",
              "      <td>-0.270533</td>\n",
              "      <td>0.817739</td>\n",
              "      <td>...</td>\n",
              "      <td>-0.009431</td>\n",
              "      <td>0.798278</td>\n",
              "      <td>-0.137458</td>\n",
              "      <td>0.141267</td>\n",
              "      <td>-0.206010</td>\n",
              "      <td>0.502292</td>\n",
              "      <td>0.219422</td>\n",
              "      <td>0.215153</td>\n",
              "      <td>69.99</td>\n",
              "      <td>0</td>\n",
              "    </tr>\n",
              "  </tbody>\n",
              "</table>\n",
              "<p>5 rows × 31 columns</p>\n",
              "</div>\n",
              "      <button class=\"colab-df-convert\" onclick=\"convertToInteractive('df-16daaca7-0ffe-4c5e-aee0-304eafd2feac')\"\n",
              "              title=\"Convert this dataframe to an interactive table.\"\n",
              "              style=\"display:none;\">\n",
              "\n",
              "  <svg xmlns=\"http://www.w3.org/2000/svg\" height=\"24px\"viewBox=\"0 0 24 24\"\n",
              "       width=\"24px\">\n",
              "    <path d=\"M0 0h24v24H0V0z\" fill=\"none\"/>\n",
              "    <path d=\"M18.56 5.44l.94 2.06.94-2.06 2.06-.94-2.06-.94-.94-2.06-.94 2.06-2.06.94zm-11 1L8.5 8.5l.94-2.06 2.06-.94-2.06-.94L8.5 2.5l-.94 2.06-2.06.94zm10 10l.94 2.06.94-2.06 2.06-.94-2.06-.94-.94-2.06-.94 2.06-2.06.94z\"/><path d=\"M17.41 7.96l-1.37-1.37c-.4-.4-.92-.59-1.43-.59-.52 0-1.04.2-1.43.59L10.3 9.45l-7.72 7.72c-.78.78-.78 2.05 0 2.83L4 21.41c.39.39.9.59 1.41.59.51 0 1.02-.2 1.41-.59l7.78-7.78 2.81-2.81c.8-.78.8-2.07 0-2.86zM5.41 20L4 18.59l7.72-7.72 1.47 1.35L5.41 20z\"/>\n",
              "  </svg>\n",
              "      </button>\n",
              "\n",
              "\n",
              "\n",
              "    <div id=\"df-3081ceb0-3e6e-4b32-a366-5e0b3fb3ff6d\">\n",
              "      <button class=\"colab-df-quickchart\" onclick=\"quickchart('df-3081ceb0-3e6e-4b32-a366-5e0b3fb3ff6d')\"\n",
              "              title=\"Suggest charts.\"\n",
              "              style=\"display:none;\">\n",
              "\n",
              "<svg xmlns=\"http://www.w3.org/2000/svg\" height=\"24px\"viewBox=\"0 0 24 24\"\n",
              "     width=\"24px\">\n",
              "    <g>\n",
              "        <path d=\"M19 3H5c-1.1 0-2 .9-2 2v14c0 1.1.9 2 2 2h14c1.1 0 2-.9 2-2V5c0-1.1-.9-2-2-2zM9 17H7v-7h2v7zm4 0h-2V7h2v10zm4 0h-2v-4h2v4z\"/>\n",
              "    </g>\n",
              "</svg>\n",
              "      </button>\n",
              "    </div>\n",
              "\n",
              "<style>\n",
              "  .colab-df-quickchart {\n",
              "    background-color: #E8F0FE;\n",
              "    border: none;\n",
              "    border-radius: 50%;\n",
              "    cursor: pointer;\n",
              "    display: none;\n",
              "    fill: #1967D2;\n",
              "    height: 32px;\n",
              "    padding: 0 0 0 0;\n",
              "    width: 32px;\n",
              "  }\n",
              "\n",
              "  .colab-df-quickchart:hover {\n",
              "    background-color: #E2EBFA;\n",
              "    box-shadow: 0px 1px 2px rgba(60, 64, 67, 0.3), 0px 1px 3px 1px rgba(60, 64, 67, 0.15);\n",
              "    fill: #174EA6;\n",
              "  }\n",
              "\n",
              "  [theme=dark] .colab-df-quickchart {\n",
              "    background-color: #3B4455;\n",
              "    fill: #D2E3FC;\n",
              "  }\n",
              "\n",
              "  [theme=dark] .colab-df-quickchart:hover {\n",
              "    background-color: #434B5C;\n",
              "    box-shadow: 0px 1px 3px 1px rgba(0, 0, 0, 0.15);\n",
              "    filter: drop-shadow(0px 1px 2px rgba(0, 0, 0, 0.3));\n",
              "    fill: #FFFFFF;\n",
              "  }\n",
              "</style>\n",
              "\n",
              "    <script>\n",
              "      async function quickchart(key) {\n",
              "        const containerElement = document.querySelector('#' + key);\n",
              "        const charts = await google.colab.kernel.invokeFunction(\n",
              "            'suggestCharts', [key], {});\n",
              "      }\n",
              "    </script>\n",
              "\n",
              "      <script>\n",
              "\n",
              "function displayQuickchartButton(domScope) {\n",
              "  let quickchartButtonEl =\n",
              "    domScope.querySelector('#df-3081ceb0-3e6e-4b32-a366-5e0b3fb3ff6d button.colab-df-quickchart');\n",
              "  quickchartButtonEl.style.display =\n",
              "    google.colab.kernel.accessAllowed ? 'block' : 'none';\n",
              "}\n",
              "\n",
              "        displayQuickchartButton(document);\n",
              "      </script>\n",
              "      <style>\n",
              "    .colab-df-container {\n",
              "      display:flex;\n",
              "      flex-wrap:wrap;\n",
              "      gap: 12px;\n",
              "    }\n",
              "\n",
              "    .colab-df-convert {\n",
              "      background-color: #E8F0FE;\n",
              "      border: none;\n",
              "      border-radius: 50%;\n",
              "      cursor: pointer;\n",
              "      display: none;\n",
              "      fill: #1967D2;\n",
              "      height: 32px;\n",
              "      padding: 0 0 0 0;\n",
              "      width: 32px;\n",
              "    }\n",
              "\n",
              "    .colab-df-convert:hover {\n",
              "      background-color: #E2EBFA;\n",
              "      box-shadow: 0px 1px 2px rgba(60, 64, 67, 0.3), 0px 1px 3px 1px rgba(60, 64, 67, 0.15);\n",
              "      fill: #174EA6;\n",
              "    }\n",
              "\n",
              "    [theme=dark] .colab-df-convert {\n",
              "      background-color: #3B4455;\n",
              "      fill: #D2E3FC;\n",
              "    }\n",
              "\n",
              "    [theme=dark] .colab-df-convert:hover {\n",
              "      background-color: #434B5C;\n",
              "      box-shadow: 0px 1px 3px 1px rgba(0, 0, 0, 0.15);\n",
              "      filter: drop-shadow(0px 1px 2px rgba(0, 0, 0, 0.3));\n",
              "      fill: #FFFFFF;\n",
              "    }\n",
              "  </style>\n",
              "\n",
              "      <script>\n",
              "        const buttonEl =\n",
              "          document.querySelector('#df-16daaca7-0ffe-4c5e-aee0-304eafd2feac button.colab-df-convert');\n",
              "        buttonEl.style.display =\n",
              "          google.colab.kernel.accessAllowed ? 'block' : 'none';\n",
              "\n",
              "        async function convertToInteractive(key) {\n",
              "          const element = document.querySelector('#df-16daaca7-0ffe-4c5e-aee0-304eafd2feac');\n",
              "          const dataTable =\n",
              "            await google.colab.kernel.invokeFunction('convertToInteractive',\n",
              "                                                     [key], {});\n",
              "          if (!dataTable) return;\n",
              "\n",
              "          const docLinkHtml = 'Like what you see? Visit the ' +\n",
              "            '<a target=\"_blank\" href=https://colab.research.google.com/notebooks/data_table.ipynb>data table notebook</a>'\n",
              "            + ' to learn more about interactive tables.';\n",
              "          element.innerHTML = '';\n",
              "          dataTable['output_type'] = 'display_data';\n",
              "          await google.colab.output.renderOutput(dataTable, element);\n",
              "          const docLink = document.createElement('div');\n",
              "          docLink.innerHTML = docLinkHtml;\n",
              "          element.appendChild(docLink);\n",
              "        }\n",
              "      </script>\n",
              "    </div>\n",
              "  </div>\n"
            ]
          },
          "metadata": {},
          "execution_count": 6
        }
      ]
    },
    {
      "cell_type": "markdown",
      "source": [
        "In practice, a financial institution may have access to a much larger dataset of transactions. To simulate such a case, we will inflate the original one 10 times.\n"
      ],
      "metadata": {
        "id": "EUxvpuiCkBvw"
      }
    },
    {
      "cell_type": "code",
      "source": [
        "n_replicas = 10\n",
        "\n",
        "# inflate the original dataset\n",
        "big_raw_data = pd.DataFrame(np.repeat(raw_data.values, n_replicas, axis=0), columns=raw_data.columns)\n",
        "\n",
        "print(\"There are \" + str(len(big_raw_data)) + \" observations in the inflated credit card fraud dataset.\")\n",
        "print(\"There are \" + str(len(big_raw_data.columns)) + \" variables in the dataset.\")\n",
        "\n",
        "# display first rows in the new dataset\n",
        "big_raw_data.head()"
      ],
      "metadata": {
        "execution": {
          "iopub.status.busy": "2023-07-09T09:37:57.478938Z",
          "iopub.execute_input": "2023-07-09T09:37:57.479356Z",
          "iopub.status.idle": "2023-07-09T09:37:57.825135Z",
          "shell.execute_reply.started": "2023-07-09T09:37:57.479324Z",
          "shell.execute_reply": "2023-07-09T09:37:57.824023Z"
        },
        "trusted": true,
        "id": "Kg3Rw1P3kBvw",
        "colab": {
          "base_uri": "https://localhost:8080/",
          "height": 334
        },
        "outputId": "a1bc6ab9-27cf-4cc0-c7a8-983fbec5fa10"
      },
      "execution_count": 7,
      "outputs": [
        {
          "output_type": "stream",
          "name": "stdout",
          "text": [
            "There are 2848070 observations in the inflated credit card fraud dataset.\n",
            "There are 31 variables in the dataset.\n"
          ]
        },
        {
          "output_type": "execute_result",
          "data": {
            "text/plain": [
              "   Time        V1        V2        V3        V4        V5        V6        V7  \\\n",
              "0   0.0 -1.359807 -0.072781  2.536347  1.378155 -0.338321  0.462388  0.239599   \n",
              "1   0.0 -1.359807 -0.072781  2.536347  1.378155 -0.338321  0.462388  0.239599   \n",
              "2   0.0 -1.359807 -0.072781  2.536347  1.378155 -0.338321  0.462388  0.239599   \n",
              "3   0.0 -1.359807 -0.072781  2.536347  1.378155 -0.338321  0.462388  0.239599   \n",
              "4   0.0 -1.359807 -0.072781  2.536347  1.378155 -0.338321  0.462388  0.239599   \n",
              "\n",
              "         V8        V9  ...       V21       V22       V23       V24       V25  \\\n",
              "0  0.098698  0.363787  ... -0.018307  0.277838 -0.110474  0.066928  0.128539   \n",
              "1  0.098698  0.363787  ... -0.018307  0.277838 -0.110474  0.066928  0.128539   \n",
              "2  0.098698  0.363787  ... -0.018307  0.277838 -0.110474  0.066928  0.128539   \n",
              "3  0.098698  0.363787  ... -0.018307  0.277838 -0.110474  0.066928  0.128539   \n",
              "4  0.098698  0.363787  ... -0.018307  0.277838 -0.110474  0.066928  0.128539   \n",
              "\n",
              "        V26       V27       V28  Amount  Class  \n",
              "0 -0.189115  0.133558 -0.021053  149.62    0.0  \n",
              "1 -0.189115  0.133558 -0.021053  149.62    0.0  \n",
              "2 -0.189115  0.133558 -0.021053  149.62    0.0  \n",
              "3 -0.189115  0.133558 -0.021053  149.62    0.0  \n",
              "4 -0.189115  0.133558 -0.021053  149.62    0.0  \n",
              "\n",
              "[5 rows x 31 columns]"
            ],
            "text/html": [
              "\n",
              "\n",
              "  <div id=\"df-2ea04dd0-9caf-4465-8d55-f55ee9ecaa7a\">\n",
              "    <div class=\"colab-df-container\">\n",
              "      <div>\n",
              "<style scoped>\n",
              "    .dataframe tbody tr th:only-of-type {\n",
              "        vertical-align: middle;\n",
              "    }\n",
              "\n",
              "    .dataframe tbody tr th {\n",
              "        vertical-align: top;\n",
              "    }\n",
              "\n",
              "    .dataframe thead th {\n",
              "        text-align: right;\n",
              "    }\n",
              "</style>\n",
              "<table border=\"1\" class=\"dataframe\">\n",
              "  <thead>\n",
              "    <tr style=\"text-align: right;\">\n",
              "      <th></th>\n",
              "      <th>Time</th>\n",
              "      <th>V1</th>\n",
              "      <th>V2</th>\n",
              "      <th>V3</th>\n",
              "      <th>V4</th>\n",
              "      <th>V5</th>\n",
              "      <th>V6</th>\n",
              "      <th>V7</th>\n",
              "      <th>V8</th>\n",
              "      <th>V9</th>\n",
              "      <th>...</th>\n",
              "      <th>V21</th>\n",
              "      <th>V22</th>\n",
              "      <th>V23</th>\n",
              "      <th>V24</th>\n",
              "      <th>V25</th>\n",
              "      <th>V26</th>\n",
              "      <th>V27</th>\n",
              "      <th>V28</th>\n",
              "      <th>Amount</th>\n",
              "      <th>Class</th>\n",
              "    </tr>\n",
              "  </thead>\n",
              "  <tbody>\n",
              "    <tr>\n",
              "      <th>0</th>\n",
              "      <td>0.0</td>\n",
              "      <td>-1.359807</td>\n",
              "      <td>-0.072781</td>\n",
              "      <td>2.536347</td>\n",
              "      <td>1.378155</td>\n",
              "      <td>-0.338321</td>\n",
              "      <td>0.462388</td>\n",
              "      <td>0.239599</td>\n",
              "      <td>0.098698</td>\n",
              "      <td>0.363787</td>\n",
              "      <td>...</td>\n",
              "      <td>-0.018307</td>\n",
              "      <td>0.277838</td>\n",
              "      <td>-0.110474</td>\n",
              "      <td>0.066928</td>\n",
              "      <td>0.128539</td>\n",
              "      <td>-0.189115</td>\n",
              "      <td>0.133558</td>\n",
              "      <td>-0.021053</td>\n",
              "      <td>149.62</td>\n",
              "      <td>0.0</td>\n",
              "    </tr>\n",
              "    <tr>\n",
              "      <th>1</th>\n",
              "      <td>0.0</td>\n",
              "      <td>-1.359807</td>\n",
              "      <td>-0.072781</td>\n",
              "      <td>2.536347</td>\n",
              "      <td>1.378155</td>\n",
              "      <td>-0.338321</td>\n",
              "      <td>0.462388</td>\n",
              "      <td>0.239599</td>\n",
              "      <td>0.098698</td>\n",
              "      <td>0.363787</td>\n",
              "      <td>...</td>\n",
              "      <td>-0.018307</td>\n",
              "      <td>0.277838</td>\n",
              "      <td>-0.110474</td>\n",
              "      <td>0.066928</td>\n",
              "      <td>0.128539</td>\n",
              "      <td>-0.189115</td>\n",
              "      <td>0.133558</td>\n",
              "      <td>-0.021053</td>\n",
              "      <td>149.62</td>\n",
              "      <td>0.0</td>\n",
              "    </tr>\n",
              "    <tr>\n",
              "      <th>2</th>\n",
              "      <td>0.0</td>\n",
              "      <td>-1.359807</td>\n",
              "      <td>-0.072781</td>\n",
              "      <td>2.536347</td>\n",
              "      <td>1.378155</td>\n",
              "      <td>-0.338321</td>\n",
              "      <td>0.462388</td>\n",
              "      <td>0.239599</td>\n",
              "      <td>0.098698</td>\n",
              "      <td>0.363787</td>\n",
              "      <td>...</td>\n",
              "      <td>-0.018307</td>\n",
              "      <td>0.277838</td>\n",
              "      <td>-0.110474</td>\n",
              "      <td>0.066928</td>\n",
              "      <td>0.128539</td>\n",
              "      <td>-0.189115</td>\n",
              "      <td>0.133558</td>\n",
              "      <td>-0.021053</td>\n",
              "      <td>149.62</td>\n",
              "      <td>0.0</td>\n",
              "    </tr>\n",
              "    <tr>\n",
              "      <th>3</th>\n",
              "      <td>0.0</td>\n",
              "      <td>-1.359807</td>\n",
              "      <td>-0.072781</td>\n",
              "      <td>2.536347</td>\n",
              "      <td>1.378155</td>\n",
              "      <td>-0.338321</td>\n",
              "      <td>0.462388</td>\n",
              "      <td>0.239599</td>\n",
              "      <td>0.098698</td>\n",
              "      <td>0.363787</td>\n",
              "      <td>...</td>\n",
              "      <td>-0.018307</td>\n",
              "      <td>0.277838</td>\n",
              "      <td>-0.110474</td>\n",
              "      <td>0.066928</td>\n",
              "      <td>0.128539</td>\n",
              "      <td>-0.189115</td>\n",
              "      <td>0.133558</td>\n",
              "      <td>-0.021053</td>\n",
              "      <td>149.62</td>\n",
              "      <td>0.0</td>\n",
              "    </tr>\n",
              "    <tr>\n",
              "      <th>4</th>\n",
              "      <td>0.0</td>\n",
              "      <td>-1.359807</td>\n",
              "      <td>-0.072781</td>\n",
              "      <td>2.536347</td>\n",
              "      <td>1.378155</td>\n",
              "      <td>-0.338321</td>\n",
              "      <td>0.462388</td>\n",
              "      <td>0.239599</td>\n",
              "      <td>0.098698</td>\n",
              "      <td>0.363787</td>\n",
              "      <td>...</td>\n",
              "      <td>-0.018307</td>\n",
              "      <td>0.277838</td>\n",
              "      <td>-0.110474</td>\n",
              "      <td>0.066928</td>\n",
              "      <td>0.128539</td>\n",
              "      <td>-0.189115</td>\n",
              "      <td>0.133558</td>\n",
              "      <td>-0.021053</td>\n",
              "      <td>149.62</td>\n",
              "      <td>0.0</td>\n",
              "    </tr>\n",
              "  </tbody>\n",
              "</table>\n",
              "<p>5 rows × 31 columns</p>\n",
              "</div>\n",
              "      <button class=\"colab-df-convert\" onclick=\"convertToInteractive('df-2ea04dd0-9caf-4465-8d55-f55ee9ecaa7a')\"\n",
              "              title=\"Convert this dataframe to an interactive table.\"\n",
              "              style=\"display:none;\">\n",
              "\n",
              "  <svg xmlns=\"http://www.w3.org/2000/svg\" height=\"24px\"viewBox=\"0 0 24 24\"\n",
              "       width=\"24px\">\n",
              "    <path d=\"M0 0h24v24H0V0z\" fill=\"none\"/>\n",
              "    <path d=\"M18.56 5.44l.94 2.06.94-2.06 2.06-.94-2.06-.94-.94-2.06-.94 2.06-2.06.94zm-11 1L8.5 8.5l.94-2.06 2.06-.94-2.06-.94L8.5 2.5l-.94 2.06-2.06.94zm10 10l.94 2.06.94-2.06 2.06-.94-2.06-.94-.94-2.06-.94 2.06-2.06.94z\"/><path d=\"M17.41 7.96l-1.37-1.37c-.4-.4-.92-.59-1.43-.59-.52 0-1.04.2-1.43.59L10.3 9.45l-7.72 7.72c-.78.78-.78 2.05 0 2.83L4 21.41c.39.39.9.59 1.41.59.51 0 1.02-.2 1.41-.59l7.78-7.78 2.81-2.81c.8-.78.8-2.07 0-2.86zM5.41 20L4 18.59l7.72-7.72 1.47 1.35L5.41 20z\"/>\n",
              "  </svg>\n",
              "      </button>\n",
              "\n",
              "\n",
              "\n",
              "    <div id=\"df-d4445807-c4c6-444f-b40e-7a3d98d5569f\">\n",
              "      <button class=\"colab-df-quickchart\" onclick=\"quickchart('df-d4445807-c4c6-444f-b40e-7a3d98d5569f')\"\n",
              "              title=\"Suggest charts.\"\n",
              "              style=\"display:none;\">\n",
              "\n",
              "<svg xmlns=\"http://www.w3.org/2000/svg\" height=\"24px\"viewBox=\"0 0 24 24\"\n",
              "     width=\"24px\">\n",
              "    <g>\n",
              "        <path d=\"M19 3H5c-1.1 0-2 .9-2 2v14c0 1.1.9 2 2 2h14c1.1 0 2-.9 2-2V5c0-1.1-.9-2-2-2zM9 17H7v-7h2v7zm4 0h-2V7h2v10zm4 0h-2v-4h2v4z\"/>\n",
              "    </g>\n",
              "</svg>\n",
              "      </button>\n",
              "    </div>\n",
              "\n",
              "<style>\n",
              "  .colab-df-quickchart {\n",
              "    background-color: #E8F0FE;\n",
              "    border: none;\n",
              "    border-radius: 50%;\n",
              "    cursor: pointer;\n",
              "    display: none;\n",
              "    fill: #1967D2;\n",
              "    height: 32px;\n",
              "    padding: 0 0 0 0;\n",
              "    width: 32px;\n",
              "  }\n",
              "\n",
              "  .colab-df-quickchart:hover {\n",
              "    background-color: #E2EBFA;\n",
              "    box-shadow: 0px 1px 2px rgba(60, 64, 67, 0.3), 0px 1px 3px 1px rgba(60, 64, 67, 0.15);\n",
              "    fill: #174EA6;\n",
              "  }\n",
              "\n",
              "  [theme=dark] .colab-df-quickchart {\n",
              "    background-color: #3B4455;\n",
              "    fill: #D2E3FC;\n",
              "  }\n",
              "\n",
              "  [theme=dark] .colab-df-quickchart:hover {\n",
              "    background-color: #434B5C;\n",
              "    box-shadow: 0px 1px 3px 1px rgba(0, 0, 0, 0.15);\n",
              "    filter: drop-shadow(0px 1px 2px rgba(0, 0, 0, 0.3));\n",
              "    fill: #FFFFFF;\n",
              "  }\n",
              "</style>\n",
              "\n",
              "    <script>\n",
              "      async function quickchart(key) {\n",
              "        const containerElement = document.querySelector('#' + key);\n",
              "        const charts = await google.colab.kernel.invokeFunction(\n",
              "            'suggestCharts', [key], {});\n",
              "      }\n",
              "    </script>\n",
              "\n",
              "      <script>\n",
              "\n",
              "function displayQuickchartButton(domScope) {\n",
              "  let quickchartButtonEl =\n",
              "    domScope.querySelector('#df-d4445807-c4c6-444f-b40e-7a3d98d5569f button.colab-df-quickchart');\n",
              "  quickchartButtonEl.style.display =\n",
              "    google.colab.kernel.accessAllowed ? 'block' : 'none';\n",
              "}\n",
              "\n",
              "        displayQuickchartButton(document);\n",
              "      </script>\n",
              "      <style>\n",
              "    .colab-df-container {\n",
              "      display:flex;\n",
              "      flex-wrap:wrap;\n",
              "      gap: 12px;\n",
              "    }\n",
              "\n",
              "    .colab-df-convert {\n",
              "      background-color: #E8F0FE;\n",
              "      border: none;\n",
              "      border-radius: 50%;\n",
              "      cursor: pointer;\n",
              "      display: none;\n",
              "      fill: #1967D2;\n",
              "      height: 32px;\n",
              "      padding: 0 0 0 0;\n",
              "      width: 32px;\n",
              "    }\n",
              "\n",
              "    .colab-df-convert:hover {\n",
              "      background-color: #E2EBFA;\n",
              "      box-shadow: 0px 1px 2px rgba(60, 64, 67, 0.3), 0px 1px 3px 1px rgba(60, 64, 67, 0.15);\n",
              "      fill: #174EA6;\n",
              "    }\n",
              "\n",
              "    [theme=dark] .colab-df-convert {\n",
              "      background-color: #3B4455;\n",
              "      fill: #D2E3FC;\n",
              "    }\n",
              "\n",
              "    [theme=dark] .colab-df-convert:hover {\n",
              "      background-color: #434B5C;\n",
              "      box-shadow: 0px 1px 3px 1px rgba(0, 0, 0, 0.15);\n",
              "      filter: drop-shadow(0px 1px 2px rgba(0, 0, 0, 0.3));\n",
              "      fill: #FFFFFF;\n",
              "    }\n",
              "  </style>\n",
              "\n",
              "      <script>\n",
              "        const buttonEl =\n",
              "          document.querySelector('#df-2ea04dd0-9caf-4465-8d55-f55ee9ecaa7a button.colab-df-convert');\n",
              "        buttonEl.style.display =\n",
              "          google.colab.kernel.accessAllowed ? 'block' : 'none';\n",
              "\n",
              "        async function convertToInteractive(key) {\n",
              "          const element = document.querySelector('#df-2ea04dd0-9caf-4465-8d55-f55ee9ecaa7a');\n",
              "          const dataTable =\n",
              "            await google.colab.kernel.invokeFunction('convertToInteractive',\n",
              "                                                     [key], {});\n",
              "          if (!dataTable) return;\n",
              "\n",
              "          const docLinkHtml = 'Like what you see? Visit the ' +\n",
              "            '<a target=\"_blank\" href=https://colab.research.google.com/notebooks/data_table.ipynb>data table notebook</a>'\n",
              "            + ' to learn more about interactive tables.';\n",
              "          element.innerHTML = '';\n",
              "          dataTable['output_type'] = 'display_data';\n",
              "          await google.colab.output.renderOutput(dataTable, element);\n",
              "          const docLink = document.createElement('div');\n",
              "          docLink.innerHTML = docLinkHtml;\n",
              "          element.appendChild(docLink);\n",
              "        }\n",
              "      </script>\n",
              "    </div>\n",
              "  </div>\n"
            ]
          },
          "metadata": {},
          "execution_count": 7
        }
      ]
    },
    {
      "cell_type": "markdown",
      "source": [
        "Each row in the dataset represents a credit card transaction. As shown above, each row has 31 variables. One variable (the last variable in the table above) is called `Class` and represents the target variable. Your objective will be to train a model that uses the other variables to predict the value of the `Class` variable. Let's first retrieve basic statistics about the target variable.\n",
        "\n",
        "Note: For confidentiality reasons, the original names of most features are anonymize as V1, V2 .. V28. The values of these features are the result of a PCA transformation and are numerical. The feature `Class` is the target variable and it takes two values: 1 in case of fraud and 0 otherwise. For more information about the dataset please visit [kaggle](https://www.kaggle.com/mlg-ulb/creditcardfraud?utm_medium=Exinfluencer&utm_source=Exinfluencer&utm_content=000026UJ&utm_term=10006555&utm_id=NA-SkillsNetwork-Channel-SkillsNetworkGuidedProjectsIBMGPXX0RHPEN82-2022-01-01).\n"
      ],
      "metadata": {
        "id": "C8PXmBGkkBvw"
      }
    },
    {
      "cell_type": "code",
      "source": [
        "# get the set of distinct classes\n",
        "labels = big_raw_data.Class.unique()\n",
        "\n",
        "# get the count of each class\n",
        "sizes = big_raw_data.Class.value_counts().values\n",
        "print(np.rint(labels))\n",
        "print(sizes)\n",
        "# plot the class value counts\n",
        "fig, ax = plt.subplots()\n",
        "ax.pie(sizes, labels=labels, autopct='%1.3f%%')\n",
        "ax.set_title('Target Variable Value Counts')\n",
        "plt.show()"
      ],
      "metadata": {
        "execution": {
          "iopub.status.busy": "2023-07-09T09:38:14.166205Z",
          "iopub.execute_input": "2023-07-09T09:38:14.16667Z",
          "iopub.status.idle": "2023-07-09T09:38:14.492468Z",
          "shell.execute_reply.started": "2023-07-09T09:38:14.16664Z",
          "shell.execute_reply": "2023-07-09T09:38:14.490573Z"
        },
        "trusted": true,
        "id": "Y_mgdVa-kBvw",
        "colab": {
          "base_uri": "https://localhost:8080/",
          "height": 463
        },
        "outputId": "1de17f1e-d26e-4c0c-bc61-acf7bd6ca1a8"
      },
      "execution_count": 9,
      "outputs": [
        {
          "output_type": "stream",
          "name": "stdout",
          "text": [
            "[0. 1.]\n",
            "[2843150    4920]\n"
          ]
        },
        {
          "output_type": "display_data",
          "data": {
            "text/plain": [
              "<Figure size 640x480 with 1 Axes>"
            ],
            "image/png": "[encoded data removed]"
          },
          "metadata": {}
        }
      ]
    },
    {
      "cell_type": "markdown",
      "source": [
        "As shown above, the Class variable has two values:\n",
        "\n",
        "- 0 (the credit card transaction is legitimate)  \n",
        "- 1 (the credit card transaction is fraudulent)\n",
        "\n",
        "Thus, you need to model a binary classification problem. Moreover, **the dataset is highly unbalanced**, the target variable classes are not represented equally. This case requires special attention when training or when evaluating the quality of a model. One way of handing this case at training time is to _bias the model to pay more attention to the samples in the minority class_. The models under the current study will be configured to take into account the class weights of the samples at train/fit time.\n"
      ],
      "metadata": {
        "id": "nyviaGEZkBvw"
      }
    },
    {
      "cell_type": "markdown",
      "source": [
        "The credit card transactions have different amounts. Let's plot a histogram that shows the distribution of these amounts. The range of these amounts (min/max). Let's print the 90th percentile of the amount values.\n"
      ],
      "metadata": {
        "id": "RJpjTxvnkBvw"
      }
    },
    {
      "cell_type": "code",
      "source": [
        "plt.hist(big_raw_data.Amount.values, 6, histtype='bar', facecolor='g')\n",
        "plt.show()\n",
        "\n",
        "print(\"Minimum amount value is \", np.min(big_raw_data.Amount.values))\n",
        "print(\"Maximum amount value is \", np.max(big_raw_data.Amount.values))\n",
        "print(\"90% of the transactions have an amount less or equal than \", np.percentile(raw_data.Amount.values, 90))"
      ],
      "metadata": {
        "execution": {
          "iopub.status.busy": "2023-07-09T09:38:22.053475Z",
          "iopub.execute_input": "2023-07-09T09:38:22.053863Z",
          "iopub.status.idle": "2023-07-09T09:38:22.545105Z",
          "shell.execute_reply.started": "2023-07-09T09:38:22.053835Z",
          "shell.execute_reply": "2023-07-09T09:38:22.544033Z"
        },
        "trusted": true,
        "id": "oEIrX3spkBvw",
        "colab": {
          "base_uri": "https://localhost:8080/",
          "height": 497
        },
        "outputId": "df40f1f0-c688-4136-9b1c-17df17dc422f"
      },
      "execution_count": 10,
      "outputs": [
        {
          "output_type": "display_data",
          "data": {
            "text/plain": [
              "<Figure size 640x480 with 1 Axes>"
            ],
            "image/png": "[encoded data removed]"
          },
          "metadata": {}
        },
        {
          "output_type": "stream",
          "name": "stdout",
          "text": [
            "Minimum amount value is  0.0\n",
            "Maximum amount value is  25691.16\n",
            "90% of the transactions have an amount less or equal than  203.0\n"
          ]
        }
      ]
    },
    {
      "cell_type": "markdown",
      "source": [
        "# Dataset Preprocessing\n"
      ],
      "metadata": {
        "id": "gi07kqb7kBvx"
      }
    },
    {
      "cell_type": "markdown",
      "source": [
        "Data preprocessing such as scaling/normalization is typically useful for linear models to accelerate the training convergence. We standardize features by removing the mean and scaling to unit variance.\n"
      ],
      "metadata": {
        "id": "uJdWdspkkBvx"
      }
    },
    {
      "cell_type": "code",
      "source": [
        "big_raw_data.iloc[:, 1:30] = StandardScaler().fit_transform(big_raw_data.iloc[:, 1:30])\n",
        "data_matrix = big_raw_data.values\n",
        "\n",
        "# X: feature matrix (for this analysis, we exclude the Time variable from the dataset)\n",
        "X = data_matrix[:, 1:30]\n",
        "\n",
        "# y: labels vector\n",
        "y = data_matrix[:, 30]\n",
        "\n",
        "# data normalization\n",
        "X = normalize(X, norm=\"l1\")\n",
        "\n",
        "# print the shape of the features matrix and the labels vector\n",
        "print('X.shape=', X.shape, 'y.shape=', y.shape)"
      ],
      "metadata": {
        "execution": {
          "iopub.status.busy": "2023-07-09T09:38:27.062652Z",
          "iopub.execute_input": "2023-07-09T09:38:27.063174Z",
          "iopub.status.idle": "2023-07-09T09:38:29.802523Z",
          "shell.execute_reply.started": "2023-07-09T09:38:27.063132Z",
          "shell.execute_reply": "2023-07-09T09:38:29.801311Z"
        },
        "trusted": true,
        "id": "NqcUBcEGkBvx",
        "colab": {
          "base_uri": "https://localhost:8080/"
        },
        "outputId": "5658da45-ec13-4189-eace-be4b45f444f9"
      },
      "execution_count": 11,
      "outputs": [
        {
          "output_type": "stream",
          "name": "stdout",
          "text": [
            "X.shape= (2848070, 29) y.shape= (2848070,)\n"
          ]
        }
      ]
    },
    {
      "cell_type": "markdown",
      "source": [
        "We are dealing with a large dataset, thus we need to make sure we do not run out of memory. We can release the memory occupied by `raw_data` and `big_raw_data` as we do not need them anymore.\n"
      ],
      "metadata": {
        "id": "MKfxe0tukBvx"
      }
    },
    {
      "cell_type": "code",
      "source": [
        "del raw_data\n",
        "del big_raw_data\n",
        "gc.collect()"
      ],
      "metadata": {
        "execution": {
          "iopub.status.busy": "2023-07-09T09:38:34.129951Z",
          "iopub.execute_input": "2023-07-09T09:38:34.130346Z",
          "iopub.status.idle": "2023-07-09T09:38:34.294358Z",
          "shell.execute_reply.started": "2023-07-09T09:38:34.130318Z",
          "shell.execute_reply": "2023-07-09T09:38:34.293173Z"
        },
        "trusted": true,
        "id": "Cda3OWOKkBvx",
        "colab": {
          "base_uri": "https://localhost:8080/"
        },
        "outputId": "dd6fba53-ad40-4f6d-e3db-182f7eac41e6"
      },
      "execution_count": 12,
      "outputs": [
        {
          "output_type": "execute_result",
          "data": {
            "text/plain": [
              "5918"
            ]
          },
          "metadata": {},
          "execution_count": 12
        }
      ]
    },
    {
      "cell_type": "markdown",
      "source": [
        "<div id=\"dataset_split\">\n",
        "    <h1>Dataset Train/Test Split</h1>\n",
        "</div>\n"
      ],
      "metadata": {
        "id": "7DZ17tT2kBvx"
      }
    },
    {
      "cell_type": "markdown",
      "source": [
        "Now that the dataset is ready for building the classification models, you need to first divide the pre-processed dataset into a subset to be used for training the model (the train set) and a subset to be used for evaluating the quality of the model (the test set).\n"
      ],
      "metadata": {
        "id": "hBNBJQmdkBvx"
      }
    },
    {
      "cell_type": "code",
      "source": [
        "X_train, X_test, y_train, y_test = train_test_split(X, y, test_size=0.3, random_state=42, stratify=y)\n",
        "print('X_train.shape=', X_train.shape, 'Y_train.shape=', y_train.shape)\n",
        "print('X_test.shape=', X_test.shape, 'Y_test.shape=', y_test.shape)"
      ],
      "metadata": {
        "execution": {
          "iopub.status.busy": "2023-07-09T09:38:38.59838Z",
          "iopub.execute_input": "2023-07-09T09:38:38.599021Z",
          "iopub.status.idle": "2023-07-09T09:38:40.526634Z",
          "shell.execute_reply.started": "2023-07-09T09:38:38.598977Z",
          "shell.execute_reply": "2023-07-09T09:38:40.525711Z"
        },
        "trusted": true,
        "id": "JKbTo6wskBvy",
        "colab": {
          "base_uri": "https://localhost:8080/"
        },
        "outputId": "329e0bd3-59e6-47bb-c142-6ff3b1cb55c8"
      },
      "execution_count": 13,
      "outputs": [
        {
          "output_type": "stream",
          "name": "stdout",
          "text": [
            "X_train.shape= (1993649, 29) Y_train.shape= (1993649,)\n",
            "X_test.shape= (854421, 29) Y_test.shape= (854421,)\n"
          ]
        }
      ]
    },
    {
      "cell_type": "markdown",
      "source": [
        "# Decision Trees\n"
      ],
      "metadata": {
        "id": "L5EOPC5YkBvy"
      }
    },
    {
      "cell_type": "markdown",
      "source": [
        "Let's first use Decision Trees for the problem and evaluate the performance of the classifiers from Scikit-learn and Snap ML.\n"
      ],
      "metadata": {
        "id": "0GN7J5ohkBvz"
      }
    },
    {
      "cell_type": "markdown",
      "source": [
        "<div id=\"dt_sklearn\">\n",
        "    <h2>Build a Decision Tree Classifier with Scikit-Learn</h2>\n",
        "</div>\n"
      ],
      "metadata": {
        "id": "zwiiMENWkBvz"
      }
    },
    {
      "cell_type": "markdown",
      "source": [
        "We compute the `sample_weights` to be used as input to the training routine so that it takes into account the class imbalance present in this dataset.\n"
      ],
      "metadata": {
        "id": "LIPPPWRwkBvz"
      }
    },
    {
      "cell_type": "code",
      "source": [
        "w_train = compute_sample_weight('balanced', y_train)"
      ],
      "metadata": {
        "execution": {
          "iopub.status.busy": "2023-07-09T09:38:45.867426Z",
          "iopub.execute_input": "2023-07-09T09:38:45.867812Z",
          "iopub.status.idle": "2023-07-09T09:38:46.483715Z",
          "shell.execute_reply.started": "2023-07-09T09:38:45.867783Z",
          "shell.execute_reply": "2023-07-09T09:38:46.482682Z"
        },
        "trusted": true,
        "id": "l_8UoPrHkBvz"
      },
      "execution_count": 14,
      "outputs": []
    },
    {
      "cell_type": "markdown",
      "source": [
        "Import the Decision Tree Classifier Model from scikit-learn:\n"
      ],
      "metadata": {
        "id": "W9smjynHkBvz"
      }
    },
    {
      "cell_type": "code",
      "source": [
        "from sklearn.tree import DecisionTreeClassifier"
      ],
      "metadata": {
        "execution": {
          "iopub.status.busy": "2023-07-09T09:38:58.201804Z",
          "iopub.execute_input": "2023-07-09T09:38:58.202475Z",
          "iopub.status.idle": "2023-07-09T09:38:58.207808Z",
          "shell.execute_reply.started": "2023-07-09T09:38:58.202432Z",
          "shell.execute_reply": "2023-07-09T09:38:58.206495Z"
        },
        "trusted": true,
        "id": "S3jXQn1OkBv0"
      },
      "execution_count": 15,
      "outputs": []
    },
    {
      "cell_type": "markdown",
      "source": [
        "For reproducible output across multiple function calls, set `random_state` to a given integer value:\n"
      ],
      "metadata": {
        "id": "gwkexj1jkBv0"
      }
    },
    {
      "cell_type": "code",
      "source": [
        "sklearn_dt = DecisionTreeClassifier(max_depth=4, random_state=35)"
      ],
      "metadata": {
        "execution": {
          "iopub.status.busy": "2023-07-09T09:39:07.057053Z",
          "iopub.execute_input": "2023-07-09T09:39:07.057566Z",
          "iopub.status.idle": "2023-07-09T09:39:07.062919Z",
          "shell.execute_reply.started": "2023-07-09T09:39:07.05753Z",
          "shell.execute_reply": "2023-07-09T09:39:07.061783Z"
        },
        "trusted": true,
        "id": "szvo-jTpkBv0"
      },
      "execution_count": 16,
      "outputs": []
    },
    {
      "cell_type": "markdown",
      "source": [
        "Train a Decision Tree Classifier using scikit-learn and use the function **time** to record the training time of our Decision Tree model.\n"
      ],
      "metadata": {
        "id": "KO5q8JcRkBv0"
      }
    },
    {
      "cell_type": "code",
      "source": [
        "t0 = time.time()\n",
        "sklearn_dt.fit(X_train, y_train, sample_weight=w_train)\n",
        "sklearn_time = time.time()-t0\n",
        "print(\"[Scikit-Learn] Training time (s):  {0:.5f}\".format(sklearn_time))"
      ],
      "metadata": {
        "execution": {
          "iopub.status.busy": "2023-07-09T09:39:13.945611Z",
          "iopub.execute_input": "2023-07-09T09:39:13.946031Z",
          "iopub.status.idle": "2023-07-09T09:40:06.207642Z",
          "shell.execute_reply.started": "2023-07-09T09:39:13.946Z",
          "shell.execute_reply": "2023-07-09T09:40:06.206298Z"
        },
        "trusted": true,
        "id": "1UO2g7ERkBv0",
        "colab": {
          "base_uri": "https://localhost:8080/"
        },
        "outputId": "0fbcf43d-bcab-4f2d-c193-2b491313f8cb"
      },
      "execution_count": 17,
      "outputs": [
        {
          "output_type": "stream",
          "name": "stdout",
          "text": [
            "[Scikit-Learn] Training time (s):  55.27388\n"
          ]
        }
      ]
    },
    {
      "cell_type": "code",
      "source": [
        "prediction=sklearn_dt.predict(X_test)"
      ],
      "metadata": {
        "execution": {
          "iopub.status.busy": "2023-07-09T09:41:17.107749Z",
          "iopub.execute_input": "2023-07-09T09:41:17.108142Z",
          "iopub.status.idle": "2023-07-09T09:41:17.204999Z",
          "shell.execute_reply.started": "2023-07-09T09:41:17.108113Z",
          "shell.execute_reply": "2023-07-09T09:41:17.203767Z"
        },
        "trusted": true,
        "id": "eiXrEbeCkBv0"
      },
      "execution_count": 18,
      "outputs": []
    },
    {
      "cell_type": "code",
      "source": [
        "from sklearn.metrics import accuracy_score, confusion_matrix\n",
        "\n",
        "accuracy = accuracy_score(y_test, prediction)\n",
        "print(\"Accuracy:\", accuracy)\n",
        "\n",
        "confusion_matrix = confusion_matrix(y_test, prediction)\n",
        "print(\"Confusion Matrix:\")\n",
        "print(confusion_matrix)"
      ],
      "metadata": {
        "execution": {
          "iopub.status.busy": "2023-07-09T09:41:22.364028Z",
          "iopub.execute_input": "2023-07-09T09:41:22.364443Z",
          "iopub.status.idle": "2023-07-09T09:41:23.584643Z",
          "shell.execute_reply.started": "2023-07-09T09:41:22.36441Z",
          "shell.execute_reply": "2023-07-09T09:41:23.583155Z"
        },
        "trusted": true,
        "id": "Y9SRSwHFkBv1",
        "colab": {
          "base_uri": "https://localhost:8080/"
        },
        "outputId": "1d189a20-e1a8-48bb-c70c-94f8a6e42c4a"
      },
      "execution_count": 19,
      "outputs": [
        {
          "output_type": "stream",
          "name": "stdout",
          "text": [
            "Accuracy: 0.9657428831922437\n",
            "Confusion Matrix:\n",
            "[[823807  29138]\n",
            " [   132   1344]]\n"
          ]
        }
      ]
    },
    {
      "cell_type": "markdown",
      "source": [
        "<div id=\"dt_snapml\">\n",
        "    <h2>Build a Decision Tree Classifier with Snap ML</h2>\n",
        "</div>\n"
      ],
      "metadata": {
        "id": "CS0MkqwqkBv1"
      }
    },
    {
      "cell_type": "markdown",
      "source": [
        "Let's import the Decision Tree Classifier Model from **Snap ML**. We can reuse the same sample weights we computed before using the Scikit-learn's `compute_sample_weight` function for training the Decision Tree from Snap ML. The seamless integration of the Snap ML library is possible due to its Scikit-learn Python API compatibility.\n"
      ],
      "metadata": {
        "id": "WlQ_tt8LkBv1"
      }
    },
    {
      "cell_type": "markdown",
      "source": [
        "Import the Decision Tree Classifier Model from Snap ML:\n"
      ],
      "metadata": {
        "id": "MoC6E9IRkBv1"
      }
    },
    {
      "cell_type": "code",
      "source": [
        "from snapml import DecisionTreeClassifier"
      ],
      "metadata": {
        "execution": {
          "iopub.status.busy": "2023-07-09T09:41:40.538129Z",
          "iopub.execute_input": "2023-07-09T09:41:40.538545Z",
          "iopub.status.idle": "2023-07-09T09:41:42.19018Z",
          "shell.execute_reply.started": "2023-07-09T09:41:40.538513Z",
          "shell.execute_reply": "2023-07-09T09:41:42.18888Z"
        },
        "trusted": true,
        "id": "at7Nd27xkBv1"
      },
      "execution_count": 20,
      "outputs": []
    },
    {
      "cell_type": "markdown",
      "source": [
        "Snap ML offers multi-threaded CPU/GPU training of decision trees, unlike scikit-learn. To use the GPU, set the parameter `use_gpu = True`:\n",
        "\n",
        "`snapml_dt = DecisionTreeClassifier(max_depth=4, random_state=45, use_gpu=True)`\n"
      ],
      "metadata": {
        "id": "Zmo1lyo7kBv1"
      }
    },
    {
      "cell_type": "markdown",
      "source": [
        "To set the number of CPU threads used at training time, set the `n_jobs` parameter. For reproducible output across multiple function calls, set `random_state` to a given integer value.\n"
      ],
      "metadata": {
        "id": "XNGBH-z_kBv2"
      }
    },
    {
      "cell_type": "code",
      "source": [
        "snapml_dt = DecisionTreeClassifier(max_depth=4, random_state=45, n_jobs=4)"
      ],
      "metadata": {
        "execution": {
          "iopub.status.busy": "2023-07-09T09:41:47.608577Z",
          "iopub.execute_input": "2023-07-09T09:41:47.608991Z",
          "iopub.status.idle": "2023-07-09T09:41:47.614879Z",
          "shell.execute_reply.started": "2023-07-09T09:41:47.608958Z",
          "shell.execute_reply": "2023-07-09T09:41:47.613342Z"
        },
        "trusted": true,
        "id": "LFsURwUYkBv2"
      },
      "execution_count": 21,
      "outputs": []
    },
    {
      "cell_type": "markdown",
      "source": [
        "Train a Decision Tree Classifier from Snap ML and use the function **time** to record the training time.\n"
      ],
      "metadata": {
        "id": "r8dh-KIzkBv2"
      }
    },
    {
      "cell_type": "code",
      "source": [
        "# train a Decision Tree Classifier model using Snap ML\n",
        "t0 = time.time()\n",
        "snapml_dt.fit(X_train, y_train, sample_weight=w_train)\n",
        "snapml_time = time.time()-t0\n",
        "print(\"[Snap ML] Training time (s):  {0:.5f}\".format(snapml_time))"
      ],
      "metadata": {
        "execution": {
          "iopub.status.busy": "2023-07-09T09:41:52.556707Z",
          "iopub.execute_input": "2023-07-09T09:41:52.557098Z",
          "iopub.status.idle": "2023-07-09T09:41:56.076684Z",
          "shell.execute_reply.started": "2023-07-09T09:41:52.557067Z",
          "shell.execute_reply": "2023-07-09T09:41:56.075344Z"
        },
        "trusted": true,
        "id": "WaDmshmvkBv3",
        "colab": {
          "base_uri": "https://localhost:8080/"
        },
        "outputId": "d58489c0-f848-4c11-acfe-45f22ba4dbce"
      },
      "execution_count": 22,
      "outputs": [
        {
          "output_type": "stream",
          "name": "stdout",
          "text": [
            "[Snap ML] Training time (s):  6.45853\n"
          ]
        }
      ]
    },
    {
      "cell_type": "code",
      "source": [
        "prediction=snapml_dt.predict(X_test)"
      ],
      "metadata": {
        "execution": {
          "iopub.status.busy": "2023-07-09T09:42:26.273434Z",
          "iopub.execute_input": "2023-07-09T09:42:26.273827Z",
          "iopub.status.idle": "2023-07-09T09:42:26.340118Z",
          "shell.execute_reply.started": "2023-07-09T09:42:26.273797Z",
          "shell.execute_reply": "2023-07-09T09:42:26.339095Z"
        },
        "trusted": true,
        "id": "vwuiu0J1kBv3"
      },
      "execution_count": 23,
      "outputs": []
    },
    {
      "cell_type": "code",
      "source": [
        "from sklearn.metrics import accuracy_score, confusion_matrix\n",
        "\n",
        "accuracy = accuracy_score(y_test, prediction)\n",
        "print(\"Accuracy:\", accuracy)\n",
        "\n",
        "confusion_matrix = confusion_matrix(y_test, prediction)\n",
        "print(\"Confusion Matrix:\")\n",
        "print(confusion_matrix)"
      ],
      "metadata": {
        "execution": {
          "iopub.status.busy": "2023-07-09T09:42:57.599643Z",
          "iopub.execute_input": "2023-07-09T09:42:57.60008Z",
          "iopub.status.idle": "2023-07-09T09:42:58.818783Z",
          "shell.execute_reply.started": "2023-07-09T09:42:57.600046Z",
          "shell.execute_reply": "2023-07-09T09:42:58.817519Z"
        },
        "trusted": true,
        "id": "C7OujjcZkBv3",
        "colab": {
          "base_uri": "https://localhost:8080/"
        },
        "outputId": "9c5ff0db-b34f-48c9-a268-deb4a19a8048"
      },
      "execution_count": 24,
      "outputs": [
        {
          "output_type": "stream",
          "name": "stdout",
          "text": [
            "Accuracy: 0.9651296023857091\n",
            "Confusion Matrix:\n",
            "[[823283  29662]\n",
            " [   132   1344]]\n"
          ]
        }
      ]
    },
    {
      "cell_type": "markdown",
      "source": [
        "<div id=\"dt_sklearn_snapml\">\n",
        "    <h1>Evaluate the Scikit-Learn and Snap ML Decision Tree Classifiers</h1>\n",
        "</div>\n"
      ],
      "metadata": {
        "id": "idaON1zWkBv3"
      }
    },
    {
      "cell_type": "markdown",
      "source": [
        "Let's examine the Snap ML vs Scikit-Learn training speedup for the Decision Tree Classifier:\n"
      ],
      "metadata": {
        "id": "h9fDuMjDkBv3"
      }
    },
    {
      "cell_type": "code",
      "source": [
        "# Snap ML vs Scikit-Learn training speedup\n",
        "training_speedup = sklearn_time/snapml_time\n",
        "print('[Decision Tree Classifier] Snap ML vs. Scikit-Learn speedup : {0:.2f}x '.format(training_speedup))"
      ],
      "metadata": {
        "execution": {
          "iopub.status.busy": "2023-07-09T09:43:19.166216Z",
          "iopub.execute_input": "2023-07-09T09:43:19.166669Z",
          "iopub.status.idle": "2023-07-09T09:43:19.172926Z",
          "shell.execute_reply.started": "2023-07-09T09:43:19.166638Z",
          "shell.execute_reply": "2023-07-09T09:43:19.171746Z"
        },
        "trusted": true,
        "id": "HgOPZfPRkBv3",
        "colab": {
          "base_uri": "https://localhost:8080/"
        },
        "outputId": "826ae391-0bb8-4033-afee-47416cdbcded"
      },
      "execution_count": 25,
      "outputs": [
        {
          "output_type": "stream",
          "name": "stdout",
          "text": [
            "[Decision Tree Classifier] Snap ML vs. Scikit-Learn speedup : 8.56x \n"
          ]
        }
      ]
    },
    {
      "cell_type": "markdown",
      "source": [
        "Let's run inference on both classifiers and compute the probabilities of the test samples belonging to the class of fraudulent transactions.\n"
      ],
      "metadata": {
        "id": "gKVvGl_AkBv4"
      }
    },
    {
      "cell_type": "code",
      "source": [
        "sklearn_pred = sklearn_dt.predict_proba(X_test)[:,1]\n",
        "snapml_pred = snapml_dt.predict_proba(X_test)[:,1]"
      ],
      "metadata": {
        "execution": {
          "iopub.status.busy": "2023-07-09T09:43:24.887368Z",
          "iopub.execute_input": "2023-07-09T09:43:24.887754Z",
          "iopub.status.idle": "2023-07-09T09:43:25.052114Z",
          "shell.execute_reply.started": "2023-07-09T09:43:24.887728Z",
          "shell.execute_reply": "2023-07-09T09:43:25.050881Z"
        },
        "trusted": true,
        "id": "Ufr5Nnx9kBv4"
      },
      "execution_count": 26,
      "outputs": []
    },
    {
      "cell_type": "markdown",
      "source": [
        "We evaluate the Compute Area Under the Receiver Operating Characteristic Curve, the **ROC-AUC score** of the predictions of both classifiers:\n"
      ],
      "metadata": {
        "id": "3lcooLkOkBv4"
      }
    },
    {
      "cell_type": "code",
      "source": [
        "sklearn_roc_auc = roc_auc_score(y_test, sklearn_pred)\n",
        "print('[Scikit-Learn] ROC-AUC score : {0:.3f}'.format(sklearn_roc_auc))\n",
        "\n",
        "snapml_roc_auc = roc_auc_score(y_test, snapml_pred)\n",
        "print('[Snap ML] ROC-AUC score : {0:.3f}'.format(snapml_roc_auc))"
      ],
      "metadata": {
        "execution": {
          "iopub.status.busy": "2023-07-09T09:43:34.47595Z",
          "iopub.execute_input": "2023-07-09T09:43:34.476407Z",
          "iopub.status.idle": "2023-07-09T09:43:34.957106Z",
          "shell.execute_reply.started": "2023-07-09T09:43:34.476371Z",
          "shell.execute_reply": "2023-07-09T09:43:34.955994Z"
        },
        "trusted": true,
        "id": "QTsPCbYvkBv4",
        "colab": {
          "base_uri": "https://localhost:8080/"
        },
        "outputId": "276ba590-be39-4a01-e36f-0059f9e4b0dd"
      },
      "execution_count": 27,
      "outputs": [
        {
          "output_type": "stream",
          "name": "stdout",
          "text": [
            "[Scikit-Learn] ROC-AUC score : 0.966\n",
            "[Snap ML] ROC-AUC score : 0.966\n"
          ]
        }
      ]
    },
    {
      "cell_type": "markdown",
      "source": [
        "As shown above, both Decision Tree classifiers provide the same score on the test dataset.\n",
        "\n",
        "However Snap ML runs the training routine multiple times faster than Scikit-Learn. This is one of the advantages of using Snap ML: **acceleration of training of classical machine learning models, such as linear and tree-based models**. For more Snap ML examples, please visit [here](https://ibm.biz/BdPfxB?utm_medium=Exinfluencer&utm_source=Exinfluencer&utm_content=000026UJ&utm_term=10006555&utm_id=NA-SkillsNetwork-Channel-SkillsNetworkGuidedProjectsIBMGPXX0RHPEN82-2022-01-01).\n"
      ],
      "metadata": {
        "id": "wb9lZ2vAkBv4"
      }
    },
    {
      "cell_type": "markdown",
      "source": [
        "# Support Vector Machines\n"
      ],
      "metadata": {
        "id": "_JZ8fvxBkBv4"
      }
    },
    {
      "cell_type": "markdown",
      "source": [
        "We now use the Support Vector Machine (SVM) models for the problem and evaluate the performance of the models from Scikit-learn and Snap ML.\n"
      ],
      "metadata": {
        "id": "d2i3byVPkBv5"
      }
    },
    {
      "cell_type": "markdown",
      "source": [
        "<div id=\"svm_sklearn\">\n",
        "    <h2>Build a Support Vector Machine model with Scikit-Learn</h2>\n",
        "</div>\n"
      ],
      "metadata": {
        "id": "QcGu35nOkBv5"
      }
    },
    {
      "cell_type": "markdown",
      "source": [
        "Import the linear Support Vector Machine (SVM) model from Scikit-Learn:\n"
      ],
      "metadata": {
        "id": "HqVrb8zZkBv5"
      }
    },
    {
      "cell_type": "code",
      "source": [
        "from sklearn.svm import LinearSVC"
      ],
      "metadata": {
        "execution": {
          "iopub.status.busy": "2023-07-09T09:43:45.360829Z",
          "iopub.execute_input": "2023-07-09T09:43:45.368145Z",
          "iopub.status.idle": "2023-07-09T09:43:45.373926Z",
          "shell.execute_reply.started": "2023-07-09T09:43:45.368087Z",
          "shell.execute_reply": "2023-07-09T09:43:45.372324Z"
        },
        "trusted": true,
        "id": "kFS-qgwKkBv5"
      },
      "execution_count": 28,
      "outputs": []
    },
    {
      "cell_type": "markdown",
      "source": [
        "Instatiate a scikit-learn SVM model. To indicate the class imbalance at training time, set `class_weight='balanced'`.\n"
      ],
      "metadata": {
        "id": "Ksn4kE-skBv5"
      }
    },
    {
      "cell_type": "code",
      "source": [
        "sklearn_svm = LinearSVC(class_weight='balanced', random_state=31, loss=\"hinge\", fit_intercept=False)"
      ],
      "metadata": {
        "execution": {
          "iopub.status.busy": "2023-07-09T09:43:49.904826Z",
          "iopub.execute_input": "2023-07-09T09:43:49.905252Z",
          "iopub.status.idle": "2023-07-09T09:43:49.911168Z",
          "shell.execute_reply.started": "2023-07-09T09:43:49.905219Z",
          "shell.execute_reply": "2023-07-09T09:43:49.909803Z"
        },
        "trusted": true,
        "id": "SgxLIDsDkBv6"
      },
      "execution_count": 29,
      "outputs": []
    },
    {
      "cell_type": "markdown",
      "source": [
        "Train a linear Support Vector Machine model using Scikit-Learn:\n"
      ],
      "metadata": {
        "id": "AqrQM4m6kBv6"
      }
    },
    {
      "cell_type": "code",
      "source": [
        "t0 = time.time()\n",
        "sklearn_svm.fit(X_train, y_train)\n",
        "sklearn_time = time.time() - t0\n",
        "print(\"[Scikit-Learn] Training time (s):  {0:.2f}\".format(sklearn_time))"
      ],
      "metadata": {
        "execution": {
          "iopub.status.busy": "2023-07-09T09:43:55.167406Z",
          "iopub.execute_input": "2023-07-09T09:43:55.167796Z",
          "iopub.status.idle": "2023-07-09T09:45:10.80231Z",
          "shell.execute_reply.started": "2023-07-09T09:43:55.167768Z",
          "shell.execute_reply": "2023-07-09T09:45:10.800985Z"
        },
        "trusted": true,
        "id": "AktXb5bPkBv6",
        "colab": {
          "base_uri": "https://localhost:8080/"
        },
        "outputId": "5b0ac83b-33a6-4b35-e56e-795518f71dd9"
      },
      "execution_count": 30,
      "outputs": [
        {
          "output_type": "stream",
          "name": "stdout",
          "text": [
            "[Scikit-Learn] Training time (s):  90.28\n"
          ]
        }
      ]
    },
    {
      "cell_type": "code",
      "source": [
        "prediction=sklearn_svm.predict(X_test)"
      ],
      "metadata": {
        "execution": {
          "iopub.status.busy": "2023-07-09T09:45:15.012657Z",
          "iopub.execute_input": "2023-07-09T09:45:15.013047Z",
          "iopub.status.idle": "2023-07-09T09:45:15.079125Z",
          "shell.execute_reply.started": "2023-07-09T09:45:15.013019Z",
          "shell.execute_reply": "2023-07-09T09:45:15.077622Z"
        },
        "trusted": true,
        "id": "bA0fEcr9kBv6"
      },
      "execution_count": 31,
      "outputs": []
    },
    {
      "cell_type": "code",
      "source": [
        "from sklearn.metrics import accuracy_score, confusion_matrix\n",
        "\n",
        "accuracy = accuracy_score(y_test, prediction)\n",
        "print(\"Accuracy:\", accuracy)\n",
        "\n",
        "confusion_matrix = confusion_matrix(y_test, prediction)\n",
        "print(\"Confusion Matrix:\")\n",
        "print(confusion_matrix)"
      ],
      "metadata": {
        "execution": {
          "iopub.status.busy": "2023-07-09T09:45:20.244809Z",
          "iopub.execute_input": "2023-07-09T09:45:20.245335Z",
          "iopub.status.idle": "2023-07-09T09:45:21.725072Z",
          "shell.execute_reply.started": "2023-07-09T09:45:20.245295Z",
          "shell.execute_reply": "2023-07-09T09:45:21.723659Z"
        },
        "trusted": true,
        "id": "Qz1qgqQekBv6",
        "colab": {
          "base_uri": "https://localhost:8080/"
        },
        "outputId": "997174c2-5eb9-4060-d5a2-87c893b6545f"
      },
      "execution_count": 32,
      "outputs": [
        {
          "output_type": "stream",
          "name": "stdout",
          "text": [
            "Accuracy: 0.9445296873555308\n",
            "Confusion Matrix:\n",
            "[[805646  47299]\n",
            " [    96   1380]]\n"
          ]
        }
      ]
    },
    {
      "cell_type": "markdown",
      "source": [
        "<div id=\"svm_snap\">\n",
        "    <h2>Build a Support Vector Machine model with Snap ML</h2>\n",
        "</div>\n"
      ],
      "metadata": {
        "id": "vfVrgIO7kBv6"
      }
    },
    {
      "cell_type": "markdown",
      "source": [
        "Import the Support Vector Machine model (SVM) from Snap ML:\n"
      ],
      "metadata": {
        "id": "EhwsIn5ekBv6"
      }
    },
    {
      "cell_type": "code",
      "source": [
        "from snapml import SupportVectorMachine"
      ],
      "metadata": {
        "execution": {
          "iopub.status.busy": "2023-07-09T09:45:26.46136Z",
          "iopub.execute_input": "2023-07-09T09:45:26.461751Z",
          "iopub.status.idle": "2023-07-09T09:45:26.467404Z",
          "shell.execute_reply.started": "2023-07-09T09:45:26.461722Z",
          "shell.execute_reply": "2023-07-09T09:45:26.466088Z"
        },
        "trusted": true,
        "id": "5smukseDkBv7"
      },
      "execution_count": 33,
      "outputs": []
    },
    {
      "cell_type": "markdown",
      "source": [
        "In contrast to scikit-learn's LinearSVC, Snap ML offers multi-threaded CPU/GPU training of SVMs. To use the GPU, set `use_gpu = True`. To set the number of threads used at training time, one needs to set the `n_jobs` parameter.\n"
      ],
      "metadata": {
        "id": "JzADgekQkBv7"
      }
    },
    {
      "cell_type": "code",
      "source": [
        "snapml_svm = SupportVectorMachine(class_weight='balanced', random_state=25, n_jobs=4, fit_intercept=False)\n",
        "print(snapml_svm.get_params())"
      ],
      "metadata": {
        "execution": {
          "iopub.status.busy": "2023-07-09T09:45:30.934741Z",
          "iopub.execute_input": "2023-07-09T09:45:30.935129Z",
          "iopub.status.idle": "2023-07-09T09:45:30.942018Z",
          "shell.execute_reply.started": "2023-07-09T09:45:30.935101Z",
          "shell.execute_reply": "2023-07-09T09:45:30.940609Z"
        },
        "trusted": true,
        "id": "IzlbB6_FkBv7",
        "colab": {
          "base_uri": "https://localhost:8080/"
        },
        "outputId": "f95d51fc-3d62-48cd-e4c0-57bdce1842b5"
      },
      "execution_count": 34,
      "outputs": [
        {
          "output_type": "stream",
          "name": "stdout",
          "text": [
            "{'class_weight': 'balanced', 'device_ids': [], 'fit_intercept': False, 'gamma': 1.0, 'generate_training_history': None, 'intercept_scaling': 1.0, 'kernel': 'linear', 'loss': 'hinge', 'max_iter': 1000, 'n_components': 100, 'n_jobs': 4, 'normalize': False, 'random_state': 25, 'regularizer': 1.0, 'tol': 0.001, 'use_gpu': False, 'verbose': False}\n"
          ]
        }
      ]
    },
    {
      "cell_type": "markdown",
      "source": [
        "Train an SVM model using Snap ML:\n"
      ],
      "metadata": {
        "id": "IKY77gKfkBv7"
      }
    },
    {
      "cell_type": "code",
      "source": [
        "t0 = time.time()\n",
        "model = snapml_svm.fit(X_train, y_train)\n",
        "snapml_time = time.time() - t0\n",
        "print(\"[Snap ML] Training time (s):  {0:.2f}\".format(snapml_time))"
      ],
      "metadata": {
        "execution": {
          "iopub.status.busy": "2023-07-09T09:45:35.337957Z",
          "iopub.execute_input": "2023-07-09T09:45:35.33841Z",
          "iopub.status.idle": "2023-07-09T09:45:58.437764Z",
          "shell.execute_reply.started": "2023-07-09T09:45:35.338378Z",
          "shell.execute_reply": "2023-07-09T09:45:58.436844Z"
        },
        "trusted": true,
        "id": "ou2G4_QqkBv7",
        "colab": {
          "base_uri": "https://localhost:8080/"
        },
        "outputId": "88082c88-393f-475a-d059-8788012f98ed"
      },
      "execution_count": 35,
      "outputs": [
        {
          "output_type": "stream",
          "name": "stdout",
          "text": [
            "[Snap ML] Training time (s):  21.31\n"
          ]
        }
      ]
    },
    {
      "cell_type": "code",
      "source": [
        "prediction=snapml_svm.predict(X_test)"
      ],
      "metadata": {
        "id": "sDV5ddZmkBv7"
      },
      "execution_count": 36,
      "outputs": []
    },
    {
      "cell_type": "code",
      "source": [
        "from sklearn.metrics import accuracy_score, confusion_matrix\n",
        "\n",
        "accuracy = accuracy_score(y_test, prediction)\n",
        "print(\"Accuracy:\", accuracy)\n",
        "\n",
        "confusion_matrix = confusion_matrix(y_test, prediction)\n",
        "print(\"Confusion Matrix:\")\n",
        "print(confusion_matrix)"
      ],
      "metadata": {
        "execution": {
          "iopub.status.busy": "2023-07-09T09:46:06.624066Z",
          "iopub.execute_input": "2023-07-09T09:46:06.62448Z",
          "iopub.status.idle": "2023-07-09T09:46:07.855471Z",
          "shell.execute_reply.started": "2023-07-09T09:46:06.624446Z",
          "shell.execute_reply": "2023-07-09T09:46:07.854299Z"
        },
        "trusted": true,
        "id": "A0304IAhkBv7",
        "colab": {
          "base_uri": "https://localhost:8080/"
        },
        "outputId": "3fb05a5e-de17-4641-ccf3-266a916e1d6b"
      },
      "execution_count": 37,
      "outputs": [
        {
          "output_type": "stream",
          "name": "stdout",
          "text": [
            "Accuracy: 0.9469570621508601\n",
            "Confusion Matrix:\n",
            "[[807720  45225]\n",
            " [    96   1380]]\n"
          ]
        }
      ]
    },
    {
      "cell_type": "markdown",
      "source": [
        "<div id=\"svm_sklearn_snap\">\n",
        "    <h1>Evaluate the Scikit-Learn and Snap ML Support Vector Machine Models</h1>\n",
        "</div>\n"
      ],
      "metadata": {
        "id": "uXFgVRhpkBv8"
      }
    },
    {
      "cell_type": "markdown",
      "source": [
        "Let's examine the Snap ML vs Scikit-Learn training speedup for the SVM models:\n"
      ],
      "metadata": {
        "id": "du0GLb-AkBv8"
      }
    },
    {
      "cell_type": "code",
      "source": [
        "# compute the Snap ML vs Scikit-Learn training speedup\n",
        "training_speedup = sklearn_time/snapml_time\n",
        "print('[Support Vector Machine] Snap ML vs. Scikit-Learn training speedup : {0:.2f}x '.format(training_speedup))"
      ],
      "metadata": {
        "execution": {
          "iopub.status.busy": "2023-07-09T09:46:13.822047Z",
          "iopub.execute_input": "2023-07-09T09:46:13.822488Z",
          "iopub.status.idle": "2023-07-09T09:46:13.829149Z",
          "shell.execute_reply.started": "2023-07-09T09:46:13.822452Z",
          "shell.execute_reply": "2023-07-09T09:46:13.827796Z"
        },
        "trusted": true,
        "id": "cTE-ZlV5kBv8",
        "colab": {
          "base_uri": "https://localhost:8080/"
        },
        "outputId": "e0a4c735-e617-4dc9-da05-c84a80c82628"
      },
      "execution_count": 38,
      "outputs": [
        {
          "output_type": "stream",
          "name": "stdout",
          "text": [
            "[Support Vector Machine] Snap ML vs. Scikit-Learn training speedup : 4.24x \n"
          ]
        }
      ]
    },
    {
      "cell_type": "markdown",
      "source": [
        "Let's run inference on both models and get the confidence scores of the test samples.\n"
      ],
      "metadata": {
        "id": "8ixQXNM9kBv8"
      }
    },
    {
      "cell_type": "code",
      "source": [
        "sklearn_pred = sklearn_svm.decision_function(X_test)\n",
        "snapml_pred = snapml_svm.decision_function(X_test)"
      ],
      "metadata": {
        "execution": {
          "iopub.status.busy": "2023-07-09T09:46:18.426553Z",
          "iopub.execute_input": "2023-07-09T09:46:18.427411Z",
          "iopub.status.idle": "2023-07-09T09:46:18.552275Z",
          "shell.execute_reply.started": "2023-07-09T09:46:18.427378Z",
          "shell.execute_reply": "2023-07-09T09:46:18.550731Z"
        },
        "trusted": true,
        "id": "bTbgg4_ZkBv8"
      },
      "execution_count": 39,
      "outputs": []
    },
    {
      "cell_type": "markdown",
      "source": [
        "We evaluate the **ROC-AUC score** of the predictions of both models:\n"
      ],
      "metadata": {
        "id": "y8xysWYXkBv8"
      }
    },
    {
      "cell_type": "code",
      "source": [
        "acc_sklearn  = roc_auc_score(y_test, sklearn_pred)\n",
        "print(\"[Scikit-Learn] ROC-AUC score:   {0:.3f}\".format(acc_sklearn))\n",
        "\n",
        "acc_snapml  = roc_auc_score(y_test, snapml_pred)\n",
        "print(\"[Snap ML] ROC-AUC score:   {0:.3f}\".format(acc_snapml))"
      ],
      "metadata": {
        "execution": {
          "iopub.status.busy": "2023-07-09T09:46:23.459006Z",
          "iopub.execute_input": "2023-07-09T09:46:23.459413Z",
          "iopub.status.idle": "2023-07-09T09:46:24.123994Z",
          "shell.execute_reply.started": "2023-07-09T09:46:23.459381Z",
          "shell.execute_reply": "2023-07-09T09:46:24.122843Z"
        },
        "trusted": true,
        "id": "3eCgAnfDkBv9",
        "colab": {
          "base_uri": "https://localhost:8080/"
        },
        "outputId": "406a2b98-886e-4c5e-92fc-92e38bf742b1"
      },
      "execution_count": 40,
      "outputs": [
        {
          "output_type": "stream",
          "name": "stdout",
          "text": [
            "[Scikit-Learn] ROC-AUC score:   0.984\n",
            "[Snap ML] ROC-AUC score:   0.985\n"
          ]
        }
      ]
    },
    {
      "cell_type": "markdown",
      "source": [
        "As shown above both SVM models provide the same score on the test dataset. However, as in the case of Decision Trees, Snap ML runs the training routine faster than Scikit-Learn. For more Snap ML examples, please visit [here](https://ibm.biz/BdPfxB?utm_medium=Exinfluencer&utm_source=Exinfluencer&utm_content=000026UJ&utm_term=10006555&utm_id=NA-SkillsNetwork-Channel-SkillsNetworkGuidedProjectsIBMGPXX0RHPEN82-2022-01-01).\n",
        "\n",
        "Moreover, as shown above, not only is Snap ML seemlessly accelerating scikit-learn applications, but the library's Python API is also compatible with scikit-learn metrics and data preprocessors.\n"
      ],
      "metadata": {
        "id": "-u1fP3RFkBv9"
      }
    },
    {
      "cell_type": "markdown",
      "source": [
        "# Hinge loss Metric"
      ],
      "metadata": {
        "id": "yr436Ts3kBv9"
      }
    },
    {
      "cell_type": "markdown",
      "source": [
        "In this Section you will:\n",
        "\n",
        "- Run inference on the test set using both Scikit-Learn and Snap ML models.\n",
        "- Evaluate the quality of the SVM models trained above using the [hinge loss metric](https://scikit-learn.org/stable/modules/generated/sklearn.metrics.hinge_loss.html?utm_medium=Exinfluencer&utm_source=Exinfluencer&utm_content=000026UJ&utm_term=10006555&utm_id=NA-SkillsNetwork-Channel-SkillsNetworkGuidedProjectsIBMGPXX0RHPEN82-2022-01-01).\n",
        "- Compute and print the hinge loss metric for both sets of predictions **(the two models should give the similar Hinge loss)**.\n"
      ],
      "metadata": {
        "id": "AncM6r8KkBv9"
      }
    },
    {
      "cell_type": "code",
      "source": [
        "from sklearn.metrics import hinge_loss\n",
        "\n",
        "# get the confidence scores for the test samples\n",
        "sklearn_pred = sklearn_svm.decision_function(X_test)\n",
        "snapml_pred  = snapml_svm.decision_function(X_test)\n",
        "\n",
        "# evaluate the hinge loss metric for Sklearn\n",
        "loss_sklearn = hinge_loss(y_test, sklearn_pred)\n",
        "print(\"[Scikit-Learn] Hinge loss:   {0:.3f}\".format(loss_sklearn))\n",
        "\n",
        "# evaluate the hinge loss for Snap ML\n",
        "loss_snapml = hinge_loss(y_test, snapml_pred)\n",
        "print(\"[Snap ML] Hinge loss:   {0:.3f}\".format(loss_snapml))"
      ],
      "metadata": {
        "execution": {
          "iopub.status.busy": "2023-07-09T09:46:40.282327Z",
          "iopub.execute_input": "2023-07-09T09:46:40.282732Z",
          "iopub.status.idle": "2023-07-09T09:46:40.784202Z",
          "shell.execute_reply.started": "2023-07-09T09:46:40.282703Z",
          "shell.execute_reply": "2023-07-09T09:46:40.783037Z"
        },
        "trusted": true,
        "id": "vZHHY9eCkBv9",
        "colab": {
          "base_uri": "https://localhost:8080/"
        },
        "outputId": "139a2301-ff30-49c5-bc68-5a7fb8b38e2b"
      },
      "execution_count": 41,
      "outputs": [
        {
          "output_type": "stream",
          "name": "stdout",
          "text": [
            "[Scikit-Learn] Hinge loss:   0.234\n",
            "[Snap ML] Hinge loss:   0.228\n"
          ]
        }
      ]
    },
    {
      "cell_type": "code",
      "source": [],
      "metadata": {
        "id": "twVabkr0SSud"
      },
      "execution_count": 41,
      "outputs": []
    }
  ]
}